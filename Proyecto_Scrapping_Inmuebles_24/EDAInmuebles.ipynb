{
 "cells": [
  {
   "cell_type": "code",
   "execution_count": 1,
   "metadata": {},
   "outputs": [],
   "source": [
    "import numpy as np\n",
    "import pandas as pd\n",
    "import matplotlib.pyplot as plt\n",
    "import seaborn as sns"
   ]
  },
  {
   "cell_type": "code",
   "execution_count": 2,
   "metadata": {},
   "outputs": [],
   "source": [
    "#importar el csv inmuebles24_coordenas_simplificadas.csv\n",
    "df = pd.read_csv('inmuebles24_coordenas_simplificadas.csv', encoding='utf-8')"
   ]
  },
  {
   "cell_type": "code",
   "execution_count": 3,
   "metadata": {},
   "outputs": [
    {
     "data": {
      "text/html": [
       "<div>\n",
       "<style scoped>\n",
       "    .dataframe tbody tr th:only-of-type {\n",
       "        vertical-align: middle;\n",
       "    }\n",
       "\n",
       "    .dataframe tbody tr th {\n",
       "        vertical-align: top;\n",
       "    }\n",
       "\n",
       "    .dataframe thead th {\n",
       "        text-align: right;\n",
       "    }\n",
       "</style>\n",
       "<table border=\"1\" class=\"dataframe\">\n",
       "  <thead>\n",
       "    <tr style=\"text-align: right;\">\n",
       "      <th></th>\n",
       "      <th>precio</th>\n",
       "      <th>ubicacion</th>\n",
       "      <th>tamanio</th>\n",
       "      <th>latitud</th>\n",
       "      <th>longitud</th>\n",
       "    </tr>\n",
       "  </thead>\n",
       "  <tbody>\n",
       "    <tr>\n",
       "      <th>0</th>\n",
       "      <td>29900</td>\n",
       "      <td>Jose Maria Castorena 232,  El Yaqui, Cuajimal...</td>\n",
       "      <td>802</td>\n",
       "      <td>19.361</td>\n",
       "      <td>-99.28</td>\n",
       "    </tr>\n",
       "    <tr>\n",
       "      <th>1</th>\n",
       "      <td>25000</td>\n",
       "      <td>Avenida de la Paz 40,  San Ángel, Alvaro Obregón</td>\n",
       "      <td>3820</td>\n",
       "      <td>19.347</td>\n",
       "      <td>-99.18</td>\n",
       "    </tr>\n",
       "    <tr>\n",
       "      <th>2</th>\n",
       "      <td>62000</td>\n",
       "      <td>Avenida Baja California 295,  Condesa, Cuauht...</td>\n",
       "      <td>56</td>\n",
       "      <td>19.406</td>\n",
       "      <td>-99.17</td>\n",
       "    </tr>\n",
       "  </tbody>\n",
       "</table>\n",
       "</div>"
      ],
      "text/plain": [
       "   precio                                          ubicacion  tamanio  \\\n",
       "0   29900   Jose Maria Castorena 232,  El Yaqui, Cuajimal...      802   \n",
       "1   25000   Avenida de la Paz 40,  San Ángel, Alvaro Obregón     3820   \n",
       "2   62000   Avenida Baja California 295,  Condesa, Cuauht...       56   \n",
       "\n",
       "   latitud  longitud  \n",
       "0   19.361    -99.28  \n",
       "1   19.347    -99.18  \n",
       "2   19.406    -99.17  "
      ]
     },
     "execution_count": 3,
     "metadata": {},
     "output_type": "execute_result"
    }
   ],
   "source": [
    "df.head(3)"
   ]
  },
  {
   "cell_type": "code",
   "execution_count": 4,
   "metadata": {},
   "outputs": [],
   "source": [
    "df['precio'] = df['precio'].astype(int)\n",
    "df['tamanio'] = df['tamanio'].astype(int)"
   ]
  },
  {
   "cell_type": "code",
   "execution_count": 5,
   "metadata": {},
   "outputs": [
    {
     "data": {
      "text/html": [
       "<div>\n",
       "<style scoped>\n",
       "    .dataframe tbody tr th:only-of-type {\n",
       "        vertical-align: middle;\n",
       "    }\n",
       "\n",
       "    .dataframe tbody tr th {\n",
       "        vertical-align: top;\n",
       "    }\n",
       "\n",
       "    .dataframe thead th {\n",
       "        text-align: right;\n",
       "    }\n",
       "</style>\n",
       "<table border=\"1\" class=\"dataframe\">\n",
       "  <thead>\n",
       "    <tr style=\"text-align: right;\">\n",
       "      <th></th>\n",
       "      <th>precio</th>\n",
       "      <th>ubicacion</th>\n",
       "      <th>tamanio</th>\n",
       "      <th>latitud</th>\n",
       "      <th>longitud</th>\n",
       "    </tr>\n",
       "  </thead>\n",
       "  <tbody>\n",
       "    <tr>\n",
       "      <th>0</th>\n",
       "      <td>29900</td>\n",
       "      <td>Jose Maria Castorena 232,  El Yaqui, Cuajimal...</td>\n",
       "      <td>802</td>\n",
       "      <td>19.361</td>\n",
       "      <td>-99.28</td>\n",
       "    </tr>\n",
       "    <tr>\n",
       "      <th>1</th>\n",
       "      <td>25000</td>\n",
       "      <td>Avenida de la Paz 40,  San Ángel, Alvaro Obregón</td>\n",
       "      <td>3820</td>\n",
       "      <td>19.347</td>\n",
       "      <td>-99.18</td>\n",
       "    </tr>\n",
       "    <tr>\n",
       "      <th>2</th>\n",
       "      <td>62000</td>\n",
       "      <td>Avenida Baja California 295,  Condesa, Cuauht...</td>\n",
       "      <td>56</td>\n",
       "      <td>19.406</td>\n",
       "      <td>-99.17</td>\n",
       "    </tr>\n",
       "  </tbody>\n",
       "</table>\n",
       "</div>"
      ],
      "text/plain": [
       "   precio                                          ubicacion  tamanio  \\\n",
       "0   29900   Jose Maria Castorena 232,  El Yaqui, Cuajimal...      802   \n",
       "1   25000   Avenida de la Paz 40,  San Ángel, Alvaro Obregón     3820   \n",
       "2   62000   Avenida Baja California 295,  Condesa, Cuauht...       56   \n",
       "\n",
       "   latitud  longitud  \n",
       "0   19.361    -99.28  \n",
       "1   19.347    -99.18  \n",
       "2   19.406    -99.17  "
      ]
     },
     "execution_count": 5,
     "metadata": {},
     "output_type": "execute_result"
    }
   ],
   "source": [
    "df.head(3)"
   ]
  },
  {
   "cell_type": "code",
   "execution_count": 6,
   "metadata": {},
   "outputs": [
    {
     "data": {
      "text/plain": [
       "518"
      ]
     },
     "execution_count": 6,
     "metadata": {},
     "output_type": "execute_result"
    }
   ],
   "source": [
    "len(df)"
   ]
  },
  {
   "cell_type": "code",
   "execution_count": 7,
   "metadata": {},
   "outputs": [
    {
     "name": "stdout",
     "output_type": "stream",
     "text": [
      "<class 'pandas.core.frame.DataFrame'>\n",
      "RangeIndex: 518 entries, 0 to 517\n",
      "Data columns (total 5 columns):\n",
      " #   Column     Non-Null Count  Dtype  \n",
      "---  ------     --------------  -----  \n",
      " 0   precio     518 non-null    int32  \n",
      " 1   ubicacion  518 non-null    object \n",
      " 2   tamanio    518 non-null    int32  \n",
      " 3   latitud    518 non-null    float64\n",
      " 4   longitud   518 non-null    float64\n",
      "dtypes: float64(2), int32(2), object(1)\n",
      "memory usage: 16.3+ KB\n"
     ]
    }
   ],
   "source": [
    "df.info()"
   ]
  },
  {
   "cell_type": "code",
   "execution_count": 8,
   "metadata": {},
   "outputs": [
    {
     "data": {
      "text/html": [
       "<div>\n",
       "<style scoped>\n",
       "    .dataframe tbody tr th:only-of-type {\n",
       "        vertical-align: middle;\n",
       "    }\n",
       "\n",
       "    .dataframe tbody tr th {\n",
       "        vertical-align: top;\n",
       "    }\n",
       "\n",
       "    .dataframe thead th {\n",
       "        text-align: right;\n",
       "    }\n",
       "</style>\n",
       "<table border=\"1\" class=\"dataframe\">\n",
       "  <thead>\n",
       "    <tr style=\"text-align: right;\">\n",
       "      <th></th>\n",
       "      <th>precio</th>\n",
       "      <th>tamanio</th>\n",
       "      <th>latitud</th>\n",
       "      <th>longitud</th>\n",
       "    </tr>\n",
       "  </thead>\n",
       "  <tbody>\n",
       "    <tr>\n",
       "      <th>count</th>\n",
       "      <td>5.180000e+02</td>\n",
       "      <td>518.000000</td>\n",
       "      <td>518.000000</td>\n",
       "      <td>518.000000</td>\n",
       "    </tr>\n",
       "    <tr>\n",
       "      <th>mean</th>\n",
       "      <td>9.629594e+04</td>\n",
       "      <td>554.222008</td>\n",
       "      <td>19.390986</td>\n",
       "      <td>-99.165019</td>\n",
       "    </tr>\n",
       "    <tr>\n",
       "      <th>std</th>\n",
       "      <td>7.492632e+05</td>\n",
       "      <td>4099.424157</td>\n",
       "      <td>0.054083</td>\n",
       "      <td>0.051555</td>\n",
       "    </tr>\n",
       "    <tr>\n",
       "      <th>min</th>\n",
       "      <td>1.000000e+00</td>\n",
       "      <td>1.000000</td>\n",
       "      <td>19.203000</td>\n",
       "      <td>-99.560000</td>\n",
       "    </tr>\n",
       "    <tr>\n",
       "      <th>25%</th>\n",
       "      <td>1.076000e+04</td>\n",
       "      <td>27.000000</td>\n",
       "      <td>19.354500</td>\n",
       "      <td>-99.190000</td>\n",
       "    </tr>\n",
       "    <tr>\n",
       "      <th>50%</th>\n",
       "      <td>1.800000e+04</td>\n",
       "      <td>48.000000</td>\n",
       "      <td>19.402000</td>\n",
       "      <td>-99.165000</td>\n",
       "    </tr>\n",
       "    <tr>\n",
       "      <th>75%</th>\n",
       "      <td>3.200000e+04</td>\n",
       "      <td>78.000000</td>\n",
       "      <td>19.431000</td>\n",
       "      <td>-99.130000</td>\n",
       "    </tr>\n",
       "    <tr>\n",
       "      <th>max</th>\n",
       "      <td>1.000000e+07</td>\n",
       "      <td>65215.000000</td>\n",
       "      <td>19.520000</td>\n",
       "      <td>-98.980000</td>\n",
       "    </tr>\n",
       "  </tbody>\n",
       "</table>\n",
       "</div>"
      ],
      "text/plain": [
       "             precio       tamanio     latitud    longitud\n",
       "count  5.180000e+02    518.000000  518.000000  518.000000\n",
       "mean   9.629594e+04    554.222008   19.390986  -99.165019\n",
       "std    7.492632e+05   4099.424157    0.054083    0.051555\n",
       "min    1.000000e+00      1.000000   19.203000  -99.560000\n",
       "25%    1.076000e+04     27.000000   19.354500  -99.190000\n",
       "50%    1.800000e+04     48.000000   19.402000  -99.165000\n",
       "75%    3.200000e+04     78.000000   19.431000  -99.130000\n",
       "max    1.000000e+07  65215.000000   19.520000  -98.980000"
      ]
     },
     "execution_count": 8,
     "metadata": {},
     "output_type": "execute_result"
    }
   ],
   "source": [
    "df.describe()"
   ]
  },
  {
   "cell_type": "code",
   "execution_count": 9,
   "metadata": {},
   "outputs": [
    {
     "data": {
      "image/png": "[encoded data removed]",
      "text/plain": [
       "<Figure size 1200x800 with 1 Axes>"
      ]
     },
     "metadata": {},
     "output_type": "display_data"
    }
   ],
   "source": [
    "#mostrar los datos en un scatter plot\n",
    "plt.figure(figsize=(12,8))\n",
    "plt.scatter(df['tamanio'], df['precio'], alpha=0.5)\n",
    "plt.title('Scatter plot')\n",
    "plt.xlabel('Tamaño')\n",
    "plt.ylabel('Precio')\n",
    "plt.show()"
   ]
  },
  {
   "cell_type": "code",
   "execution_count": 10,
   "metadata": {},
   "outputs": [
    {
     "data": {
      "text/plain": [
       "417"
      ]
     },
     "execution_count": 10,
     "metadata": {},
     "output_type": "execute_result"
    }
   ],
   "source": [
    "#eliminar los registros que esten en arriba de el 10% de los precios\n",
    "df = df[df['precio'] < df['precio'].quantile(0.90)]\n",
    "df = df[df['tamanio'] < df['tamanio'].quantile(0.90)]\n",
    "len(df)\n"
   ]
  },
  {
   "cell_type": "code",
   "execution_count": 11,
   "metadata": {},
   "outputs": [
    {
     "data": {
      "text/html": [
       "<div>\n",
       "<style scoped>\n",
       "    .dataframe tbody tr th:only-of-type {\n",
       "        vertical-align: middle;\n",
       "    }\n",
       "\n",
       "    .dataframe tbody tr th {\n",
       "        vertical-align: top;\n",
       "    }\n",
       "\n",
       "    .dataframe thead th {\n",
       "        text-align: right;\n",
       "    }\n",
       "</style>\n",
       "<table border=\"1\" class=\"dataframe\">\n",
       "  <thead>\n",
       "    <tr style=\"text-align: right;\">\n",
       "      <th></th>\n",
       "      <th>precio</th>\n",
       "      <th>ubicacion</th>\n",
       "      <th>tamanio</th>\n",
       "      <th>latitud</th>\n",
       "      <th>longitud</th>\n",
       "    </tr>\n",
       "  </thead>\n",
       "  <tbody>\n",
       "    <tr>\n",
       "      <th>3</th>\n",
       "      <td>8000</td>\n",
       "      <td>BOLAÑOS,  Felipe Pescador, Cuauhtémoc</td>\n",
       "      <td>30</td>\n",
       "      <td>19.454</td>\n",
       "      <td>-99.12</td>\n",
       "    </tr>\n",
       "    <tr>\n",
       "      <th>4</th>\n",
       "      <td>16000</td>\n",
       "      <td>Huitzilopochtli Lte 14 Mz 19,  Adolfo Ruiz Co...</td>\n",
       "      <td>35</td>\n",
       "      <td>19.320</td>\n",
       "      <td>-99.15</td>\n",
       "    </tr>\n",
       "    <tr>\n",
       "      <th>6</th>\n",
       "      <td>9000</td>\n",
       "      <td>Lucerna 65,  Juárez, Cuauhtémoc</td>\n",
       "      <td>8</td>\n",
       "      <td>19.430</td>\n",
       "      <td>-99.15</td>\n",
       "    </tr>\n",
       "    <tr>\n",
       "      <th>8</th>\n",
       "      <td>18000</td>\n",
       "      <td>Montecito 38,  Nápoles, Benito Juárez</td>\n",
       "      <td>40</td>\n",
       "      <td>19.394</td>\n",
       "      <td>-99.17</td>\n",
       "    </tr>\n",
       "    <tr>\n",
       "      <th>10</th>\n",
       "      <td>7500</td>\n",
       "      <td>Petén,  Narvarte Oriente, Benito Juárez</td>\n",
       "      <td>12</td>\n",
       "      <td>19.387</td>\n",
       "      <td>-99.15</td>\n",
       "    </tr>\n",
       "    <tr>\n",
       "      <th>...</th>\n",
       "      <td>...</td>\n",
       "      <td>...</td>\n",
       "      <td>...</td>\n",
       "      <td>...</td>\n",
       "      <td>...</td>\n",
       "    </tr>\n",
       "    <tr>\n",
       "      <th>513</th>\n",
       "      <td>9100</td>\n",
       "      <td>Eje Central Lázaro Cárdenas 545,  Narvarte Or...</td>\n",
       "      <td>26</td>\n",
       "      <td>19.396</td>\n",
       "      <td>-99.14</td>\n",
       "    </tr>\n",
       "    <tr>\n",
       "      <th>514</th>\n",
       "      <td>300</td>\n",
       "      <td>Prolongacion Paseo de la Reforma 413,  Santa ...</td>\n",
       "      <td>80</td>\n",
       "      <td>19.377</td>\n",
       "      <td>-99.25</td>\n",
       "    </tr>\n",
       "    <tr>\n",
       "      <th>515</th>\n",
       "      <td>26000</td>\n",
       "      <td>Avenida San Jerónimo 630,  Jardines del Pedre...</td>\n",
       "      <td>58</td>\n",
       "      <td>19.328</td>\n",
       "      <td>-99.21</td>\n",
       "    </tr>\n",
       "    <tr>\n",
       "      <th>516</th>\n",
       "      <td>10680</td>\n",
       "      <td>Xotepingo,  Ciudad Jardín, Coyoacán</td>\n",
       "      <td>12</td>\n",
       "      <td>19.328</td>\n",
       "      <td>-99.13</td>\n",
       "    </tr>\n",
       "    <tr>\n",
       "      <th>517</th>\n",
       "      <td>16400</td>\n",
       "      <td>Av. Portal de las Flores 1 ,65.60,  Central d...</td>\n",
       "      <td>65</td>\n",
       "      <td>19.381</td>\n",
       "      <td>-99.07</td>\n",
       "    </tr>\n",
       "  </tbody>\n",
       "</table>\n",
       "<p>417 rows × 5 columns</p>\n",
       "</div>"
      ],
      "text/plain": [
       "     precio                                          ubicacion  tamanio  \\\n",
       "3      8000              BOLAÑOS,  Felipe Pescador, Cuauhtémoc       30   \n",
       "4     16000   Huitzilopochtli Lte 14 Mz 19,  Adolfo Ruiz Co...       35   \n",
       "6      9000                    Lucerna 65,  Juárez, Cuauhtémoc        8   \n",
       "8     18000              Montecito 38,  Nápoles, Benito Juárez       40   \n",
       "10     7500            Petén,  Narvarte Oriente, Benito Juárez       12   \n",
       "..      ...                                                ...      ...   \n",
       "513    9100   Eje Central Lázaro Cárdenas 545,  Narvarte Or...       26   \n",
       "514     300   Prolongacion Paseo de la Reforma 413,  Santa ...       80   \n",
       "515   26000   Avenida San Jerónimo 630,  Jardines del Pedre...       58   \n",
       "516   10680                Xotepingo,  Ciudad Jardín, Coyoacán       12   \n",
       "517   16400   Av. Portal de las Flores 1 ,65.60,  Central d...       65   \n",
       "\n",
       "     latitud  longitud  \n",
       "3     19.454    -99.12  \n",
       "4     19.320    -99.15  \n",
       "6     19.430    -99.15  \n",
       "8     19.394    -99.17  \n",
       "10    19.387    -99.15  \n",
       "..       ...       ...  \n",
       "513   19.396    -99.14  \n",
       "514   19.377    -99.25  \n",
       "515   19.328    -99.21  \n",
       "516   19.328    -99.13  \n",
       "517   19.381    -99.07  \n",
       "\n",
       "[417 rows x 5 columns]"
      ]
     },
     "execution_count": 11,
     "metadata": {},
     "output_type": "execute_result"
    }
   ],
   "source": [
    "df"
   ]
  },
  {
   "cell_type": "code",
   "execution_count": 12,
   "metadata": {},
   "outputs": [
    {
     "name": "stdout",
     "output_type": "stream",
     "text": [
      "     precio                                          ubicacion  tamanio  \\\n",
      "3      8000              BOLAÑOS,  Felipe Pescador, Cuauhtémoc       30   \n",
      "4     16000   Huitzilopochtli Lte 14 Mz 19,  Adolfo Ruiz Co...       35   \n",
      "6      9000                    Lucerna 65,  Juárez, Cuauhtémoc        8   \n",
      "8     18000              Montecito 38,  Nápoles, Benito Juárez       40   \n",
      "10     7500            Petén,  Narvarte Oriente, Benito Juárez       12   \n",
      "..      ...                                                ...      ...   \n",
      "513    9100   Eje Central Lázaro Cárdenas 545,  Narvarte Or...       26   \n",
      "514     300   Prolongacion Paseo de la Reforma 413,  Santa ...       80   \n",
      "515   26000   Avenida San Jerónimo 630,  Jardines del Pedre...       58   \n",
      "516   10680                Xotepingo,  Ciudad Jardín, Coyoacán       12   \n",
      "517   16400   Av. Portal de las Flores 1 ,65.60,  Central d...       65   \n",
      "\n",
      "     latitud  longitud  \n",
      "3     19.454    -99.12  \n",
      "4     19.320    -99.15  \n",
      "6     19.430    -99.15  \n",
      "8     19.394    -99.17  \n",
      "10    19.387    -99.15  \n",
      "..       ...       ...  \n",
      "513   19.396    -99.14  \n",
      "514   19.377    -99.25  \n",
      "515   19.328    -99.21  \n",
      "516   19.328    -99.13  \n",
      "517   19.381    -99.07  \n",
      "\n",
      "[417 rows x 5 columns]\n"
     ]
    }
   ],
   "source": [
    "print(df)"
   ]
  },
  {
   "cell_type": "code",
   "execution_count": 13,
   "metadata": {},
   "outputs": [],
   "source": [
    "#exportar el csv inmuebles24Corregido.csv\n",
    "df.to_csv('inmuebles24Corregido.csv', index=False, encoding='utf-8')"
   ]
  },
  {
   "cell_type": "code",
   "execution_count": 14,
   "metadata": {},
   "outputs": [
    {
     "data": {
      "image/png": "[encoded data removed]",
      "text/plain": [
       "<Figure size 1200x800 with 1 Axes>"
      ]
     },
     "metadata": {},
     "output_type": "display_data"
    }
   ],
   "source": [
    "#mostrar los datos en un scatter plot\n",
    "plt.figure(figsize=(12,8))\n",
    "plt.scatter(df['tamanio'], df['precio'], alpha=0.5)\n",
    "plt.title('Precio vs Tamaño')\n",
    "plt.xlabel('Tamaño')\n",
    "plt.ylabel('Precio')\n",
    "plt.show()"
   ]
  },
  {
   "cell_type": "code",
   "execution_count": 15,
   "metadata": {},
   "outputs": [],
   "source": [
    "#pip install folium"
   ]
  },
  {
   "cell_type": "code",
   "execution_count": 16,
   "metadata": {},
   "outputs": [],
   "source": [
    "import folium\n",
    "\n",
    "# Crear un mapa centrado en la primera ubicación\n",
    "mapa = folium.Map(location=[19.361, -99.28], zoom_start=15)\n",
    "\n",
    "# Añadir marcadores para cada ubicación\n",
    "for index, row in df.iterrows():\n",
    "    popup_text = f\"Dirección: {row['ubicacion']}, Precio: {row['precio']} MXN, Tamaño: {row['tamanio']} m²\"\n",
    "    folium.Marker([row['latitud'], row['longitud']], popup=popup_text).add_to(mapa)\n",
    "\n",
    "# Guardar el mapa como un archivo HTML\n",
    "mapa.save(\"locales_en_renta.html\")\n"
   ]
  },
  {
   "cell_type": "markdown",
   "metadata": {},
   "source": [
    "------------------"
   ]
  },
  {
   "cell_type": "code",
   "execution_count": 17,
   "metadata": {},
   "outputs": [
    {
     "ename": "NameError",
     "evalue": "name 'df_super' is not defined",
     "output_type": "error",
     "traceback": [
      "\u001b[1;31m---------------------------------------------------------------------------\u001b[0m",
      "\u001b[1;31mNameError\u001b[0m                                 Traceback (most recent call last)",
      "\u001b[1;32mc:\\Users\\Adolfo\\Desktop\\ModelosEconometricos\\ModelosEconometricos\\Proyecto_Scrapping_Inmuebles_24\\EDAInmuebles.ipynb Celda 18\u001b[0m line \u001b[0;36m1\n\u001b[1;32m----> <a href='vscode-notebook-cell:/c%3A/Users/Adolfo/Desktop/ModelosEconometricos/ModelosEconometricos/Proyecto_Scrapping_Inmuebles_24/EDAInmuebles.ipynb#X22sZmlsZQ%3D%3D?line=0'>1</a>\u001b[0m df_super\u001b[39m.\u001b[39mhead(\u001b[39m3\u001b[39m)\n",
      "\u001b[1;31mNameError\u001b[0m: name 'df_super' is not defined"
     ]
    }
   ],
   "source": [
    "df_super.head(3)\n"
   ]
  },
  {
   "cell_type": "code",
   "execution_count": null,
   "metadata": {},
   "outputs": [
    {
     "data": {
      "text/html": [
       "<div>\n",
       "<style scoped>\n",
       "    .dataframe tbody tr th:only-of-type {\n",
       "        vertical-align: middle;\n",
       "    }\n",
       "\n",
       "    .dataframe tbody tr th {\n",
       "        vertical-align: top;\n",
       "    }\n",
       "\n",
       "    .dataframe thead th {\n",
       "        text-align: right;\n",
       "    }\n",
       "</style>\n",
       "<table border=\"1\" class=\"dataframe\">\n",
       "  <thead>\n",
       "    <tr style=\"text-align: right;\">\n",
       "      <th></th>\n",
       "      <th>Tipo</th>\n",
       "      <th>Producto</th>\n",
       "      <th>Marca</th>\n",
       "      <th>Categoría Secundaria</th>\n",
       "      <th>Categoría Principal</th>\n",
       "      <th>Precio</th>\n",
       "      <th>Fecha de Compra</th>\n",
       "      <th>Tienda</th>\n",
       "      <th>Tipo de Tienda</th>\n",
       "      <th>Sucursal</th>\n",
       "      <th>Ubicación de la Tienda</th>\n",
       "      <th>Estado</th>\n",
       "      <th>Ciudad</th>\n",
       "      <th>Latitud</th>\n",
       "      <th>Longitud</th>\n",
       "    </tr>\n",
       "  </thead>\n",
       "  <tbody>\n",
       "    <tr>\n",
       "      <th>0</th>\n",
       "      <td>BARRA DE SONIDO</td>\n",
       "      <td>SNH5. BLUETOOTH, USB.  POTENCIA 600 W. SONIDO 4.1</td>\n",
       "      <td>LG</td>\n",
       "      <td>APARATOS ELECTRONICOS</td>\n",
       "      <td>ELECTRODOMESTICOS</td>\n",
       "      <td>7799.0</td>\n",
       "      <td>16/06/2023</td>\n",
       "      <td>COPPEL</td>\n",
       "      <td>TIENDA DE ELECTRODOMÉSTICOS</td>\n",
       "      <td>COPPEL SUCURSAL SAN MARCOS</td>\n",
       "      <td>CONVENCION NTE. 2301, ESQ. FUNDICION, COL. SAN...</td>\n",
       "      <td>AGUASCALIENTES</td>\n",
       "      <td>AGUASCALIENTES</td>\n",
       "      <td>21.896204</td>\n",
       "      <td>-102.309694</td>\n",
       "    </tr>\n",
       "    <tr>\n",
       "      <th>1</th>\n",
       "      <td>BARRA DE SONIDO</td>\n",
       "      <td>HW-A450. BLUETOOTH, USB. POTENCIA 300 W. SONID...</td>\n",
       "      <td>SAMSUNG</td>\n",
       "      <td>APARATOS ELECTRONICOS</td>\n",
       "      <td>ELECTRODOMESTICOS</td>\n",
       "      <td>3999.0</td>\n",
       "      <td>16/06/2023</td>\n",
       "      <td>COPPEL</td>\n",
       "      <td>TIENDA DE ELECTRODOMÉSTICOS</td>\n",
       "      <td>COPPEL SUCURSAL SAN MARCOS</td>\n",
       "      <td>CONVENCION NTE. 2301, ESQ. FUNDICION, COL. SAN...</td>\n",
       "      <td>AGUASCALIENTES</td>\n",
       "      <td>AGUASCALIENTES</td>\n",
       "      <td>21.896204</td>\n",
       "      <td>-102.309694</td>\n",
       "    </tr>\n",
       "    <tr>\n",
       "      <th>2</th>\n",
       "      <td>BATIDORAS</td>\n",
       "      <td>FPSTHM3532 O FPSTHM3532-013. MANUAL. 6 VELOCID...</td>\n",
       "      <td>OSTER</td>\n",
       "      <td>APARATOS ELECTRICOS</td>\n",
       "      <td>ELECTRODOMESTICOS</td>\n",
       "      <td>669.0</td>\n",
       "      <td>16/06/2023</td>\n",
       "      <td>COPPEL</td>\n",
       "      <td>TIENDA DE ELECTRODOMÉSTICOS</td>\n",
       "      <td>COPPEL SUCURSAL SAN MARCOS</td>\n",
       "      <td>CONVENCION NTE. 2301, ESQ. FUNDICION, COL. SAN...</td>\n",
       "      <td>AGUASCALIENTES</td>\n",
       "      <td>AGUASCALIENTES</td>\n",
       "      <td>21.896204</td>\n",
       "      <td>-102.309694</td>\n",
       "    </tr>\n",
       "  </tbody>\n",
       "</table>\n",
       "</div>"
      ],
      "text/plain": [
       "              Tipo                                           Producto  \\\n",
       "0  BARRA DE SONIDO  SNH5. BLUETOOTH, USB.  POTENCIA 600 W. SONIDO 4.1   \n",
       "1  BARRA DE SONIDO  HW-A450. BLUETOOTH, USB. POTENCIA 300 W. SONID...   \n",
       "2        BATIDORAS  FPSTHM3532 O FPSTHM3532-013. MANUAL. 6 VELOCID...   \n",
       "\n",
       "     Marca   Categoría Secundaria Categoría Principal  Precio Fecha de Compra  \\\n",
       "0       LG  APARATOS ELECTRONICOS   ELECTRODOMESTICOS  7799.0      16/06/2023   \n",
       "1  SAMSUNG  APARATOS ELECTRONICOS   ELECTRODOMESTICOS  3999.0      16/06/2023   \n",
       "2    OSTER    APARATOS ELECTRICOS   ELECTRODOMESTICOS   669.0      16/06/2023   \n",
       "\n",
       "   Tienda               Tipo de Tienda                    Sucursal  \\\n",
       "0  COPPEL  TIENDA DE ELECTRODOMÉSTICOS  COPPEL SUCURSAL SAN MARCOS   \n",
       "1  COPPEL  TIENDA DE ELECTRODOMÉSTICOS  COPPEL SUCURSAL SAN MARCOS   \n",
       "2  COPPEL  TIENDA DE ELECTRODOMÉSTICOS  COPPEL SUCURSAL SAN MARCOS   \n",
       "\n",
       "                              Ubicación de la Tienda          Estado  \\\n",
       "0  CONVENCION NTE. 2301, ESQ. FUNDICION, COL. SAN...  AGUASCALIENTES   \n",
       "1  CONVENCION NTE. 2301, ESQ. FUNDICION, COL. SAN...  AGUASCALIENTES   \n",
       "2  CONVENCION NTE. 2301, ESQ. FUNDICION, COL. SAN...  AGUASCALIENTES   \n",
       "\n",
       "           Ciudad    Latitud    Longitud  \n",
       "0  AGUASCALIENTES  21.896204 -102.309694  \n",
       "1  AGUASCALIENTES  21.896204 -102.309694  \n",
       "2  AGUASCALIENTES  21.896204 -102.309694  "
      ]
     },
     "execution_count": 142,
     "metadata": {},
     "output_type": "execute_result"
    }
   ],
   "source": [
    "#importar el csv datosSupermercados.csv\n",
    "df_super = pd.read_csv('datosSupermercados.csv', encoding='utf-8')\n",
    "#añadir los headers con los siguientes nombres tipo , producto , marca , categoria , precio , fecha , tienda , sucursal , direccion , estado , municipio , latitud , longitud\n",
    "df_super.columns = ['Tipo', 'Producto', 'Marca', 'Categoría Secundaria', 'Categoría Principal', 'Precio', 'Fecha de Compra', 'Tienda', 'Tipo de Tienda', 'Sucursal', 'Ubicación de la Tienda', 'Estado', 'Ciudad', 'Latitud', 'Longitud']\n",
    "df_super.head(3)\n"
   ]
  },
  {
   "cell_type": "code",
   "execution_count": null,
   "metadata": {},
   "outputs": [],
   "source": [
    "dfActual = df_super"
   ]
  },
  {
   "cell_type": "code",
   "execution_count": null,
   "metadata": {},
   "outputs": [
    {
     "data": {
      "text/plain": [
       "634570"
      ]
     },
     "execution_count": 159,
     "metadata": {},
     "output_type": "execute_result"
    }
   ],
   "source": [
    "len(dfActual)"
   ]
  },
  {
   "cell_type": "code",
   "execution_count": null,
   "metadata": {},
   "outputs": [],
   "source": [
    "#Solo seleccionar el Estado con valor 'Ciudad de México' y la Categoria Secundaria con valor Basicos\n",
    "dfActual = dfActual[dfActual['Estado'] == 'CIUDAD DE MÉXICO']"
   ]
  },
  {
   "cell_type": "code",
   "execution_count": null,
   "metadata": {},
   "outputs": [
    {
     "data": {
      "text/plain": [
       "143635"
      ]
     },
     "execution_count": 162,
     "metadata": {},
     "output_type": "execute_result"
    }
   ],
   "source": [
    "len(dfActual)"
   ]
  },
  {
   "cell_type": "code",
   "execution_count": null,
   "metadata": {},
   "outputs": [
    {
     "data": {
      "text/html": [
       "<div>\n",
       "<style scoped>\n",
       "    .dataframe tbody tr th:only-of-type {\n",
       "        vertical-align: middle;\n",
       "    }\n",
       "\n",
       "    .dataframe tbody tr th {\n",
       "        vertical-align: top;\n",
       "    }\n",
       "\n",
       "    .dataframe thead th {\n",
       "        text-align: right;\n",
       "    }\n",
       "</style>\n",
       "<table border=\"1\" class=\"dataframe\">\n",
       "  <thead>\n",
       "    <tr style=\"text-align: right;\">\n",
       "      <th></th>\n",
       "      <th>Tipo</th>\n",
       "      <th>Producto</th>\n",
       "      <th>Marca</th>\n",
       "      <th>Categoría Secundaria</th>\n",
       "      <th>Categoría Principal</th>\n",
       "      <th>Precio</th>\n",
       "      <th>Fecha de Compra</th>\n",
       "      <th>Tienda</th>\n",
       "      <th>Tipo de Tienda</th>\n",
       "      <th>Sucursal</th>\n",
       "      <th>Ubicación de la Tienda</th>\n",
       "      <th>Estado</th>\n",
       "      <th>Ciudad</th>\n",
       "      <th>Latitud</th>\n",
       "      <th>Longitud</th>\n",
       "    </tr>\n",
       "  </thead>\n",
       "  <tbody>\n",
       "    <tr>\n",
       "      <th>58353</th>\n",
       "      <td>ACEITE</td>\n",
       "      <td>BOTELLA 1 LT. VEGETAL</td>\n",
       "      <td>01/02/2003</td>\n",
       "      <td>ACEITES Y GRASAS VEG. COMESTIBLES</td>\n",
       "      <td>BASICOS</td>\n",
       "      <td>51.0</td>\n",
       "      <td>16/06/2023</td>\n",
       "      <td>BODEGA AURRERA</td>\n",
       "      <td>SUPERMERCADO / TIENDA DE AUTOSERVICIO</td>\n",
       "      <td>BODEGA AURRERA SUCURSAL SANTA LUCIA</td>\n",
       "      <td>SANTA LUCIA 185, ESQ. ROSA BLANCA, COL. ALFONS...</td>\n",
       "      <td>CIUDAD DE MÉXICO</td>\n",
       "      <td>ÁLVARO OBREGÓN</td>\n",
       "      <td>19.378523</td>\n",
       "      <td>-99.199154</td>\n",
       "    </tr>\n",
       "    <tr>\n",
       "      <th>58354</th>\n",
       "      <td>ACEITE</td>\n",
       "      <td>BOTELLA 845 ML. CANOLA</td>\n",
       "      <td>CAPULLO</td>\n",
       "      <td>ACEITES Y GRASAS VEG. COMESTIBLES</td>\n",
       "      <td>BASICOS</td>\n",
       "      <td>72.0</td>\n",
       "      <td>16/06/2023</td>\n",
       "      <td>BODEGA AURRERA</td>\n",
       "      <td>SUPERMERCADO / TIENDA DE AUTOSERVICIO</td>\n",
       "      <td>BODEGA AURRERA SUCURSAL SANTA LUCIA</td>\n",
       "      <td>SANTA LUCIA 185, ESQ. ROSA BLANCA, COL. ALFONS...</td>\n",
       "      <td>CIUDAD DE MÉXICO</td>\n",
       "      <td>ÁLVARO OBREGÓN</td>\n",
       "      <td>19.378523</td>\n",
       "      <td>-99.199154</td>\n",
       "    </tr>\n",
       "    <tr>\n",
       "      <th>58355</th>\n",
       "      <td>ACEITE</td>\n",
       "      <td>BOTELLA 850 ML. VEGETAL</td>\n",
       "      <td>GRAN TRADICIÓN</td>\n",
       "      <td>ACEITES Y GRASAS VEG. COMESTIBLES</td>\n",
       "      <td>PACIC</td>\n",
       "      <td>38.0</td>\n",
       "      <td>16/06/2023</td>\n",
       "      <td>BODEGA AURRERA</td>\n",
       "      <td>SUPERMERCADO / TIENDA DE AUTOSERVICIO</td>\n",
       "      <td>BODEGA AURRERA SUCURSAL SANTA LUCIA</td>\n",
       "      <td>SANTA LUCIA 185, ESQ. ROSA BLANCA, COL. ALFONS...</td>\n",
       "      <td>CIUDAD DE MÉXICO</td>\n",
       "      <td>ÁLVARO OBREGÓN</td>\n",
       "      <td>19.378523</td>\n",
       "      <td>-99.199154</td>\n",
       "    </tr>\n",
       "  </tbody>\n",
       "</table>\n",
       "</div>"
      ],
      "text/plain": [
       "         Tipo                 Producto           Marca  \\\n",
       "58353  ACEITE    BOTELLA 1 LT. VEGETAL      01/02/2003   \n",
       "58354  ACEITE   BOTELLA 845 ML. CANOLA         CAPULLO   \n",
       "58355  ACEITE  BOTELLA 850 ML. VEGETAL  GRAN TRADICIÓN   \n",
       "\n",
       "                    Categoría Secundaria Categoría Principal  Precio  \\\n",
       "58353  ACEITES Y GRASAS VEG. COMESTIBLES             BASICOS    51.0   \n",
       "58354  ACEITES Y GRASAS VEG. COMESTIBLES             BASICOS    72.0   \n",
       "58355  ACEITES Y GRASAS VEG. COMESTIBLES               PACIC    38.0   \n",
       "\n",
       "      Fecha de Compra          Tienda                         Tipo de Tienda  \\\n",
       "58353      16/06/2023  BODEGA AURRERA  SUPERMERCADO / TIENDA DE AUTOSERVICIO   \n",
       "58354      16/06/2023  BODEGA AURRERA  SUPERMERCADO / TIENDA DE AUTOSERVICIO   \n",
       "58355      16/06/2023  BODEGA AURRERA  SUPERMERCADO / TIENDA DE AUTOSERVICIO   \n",
       "\n",
       "                                  Sucursal  \\\n",
       "58353  BODEGA AURRERA SUCURSAL SANTA LUCIA   \n",
       "58354  BODEGA AURRERA SUCURSAL SANTA LUCIA   \n",
       "58355  BODEGA AURRERA SUCURSAL SANTA LUCIA   \n",
       "\n",
       "                                  Ubicación de la Tienda            Estado  \\\n",
       "58353  SANTA LUCIA 185, ESQ. ROSA BLANCA, COL. ALFONS...  CIUDAD DE MÉXICO   \n",
       "58354  SANTA LUCIA 185, ESQ. ROSA BLANCA, COL. ALFONS...  CIUDAD DE MÉXICO   \n",
       "58355  SANTA LUCIA 185, ESQ. ROSA BLANCA, COL. ALFONS...  CIUDAD DE MÉXICO   \n",
       "\n",
       "               Ciudad    Latitud   Longitud  \n",
       "58353  ÁLVARO OBREGÓN  19.378523 -99.199154  \n",
       "58354  ÁLVARO OBREGÓN  19.378523 -99.199154  \n",
       "58355  ÁLVARO OBREGÓN  19.378523 -99.199154  "
      ]
     },
     "execution_count": 163,
     "metadata": {},
     "output_type": "execute_result"
    }
   ],
   "source": [
    "dfActual.head(3)"
   ]
  },
  {
   "cell_type": "code",
   "execution_count": null,
   "metadata": {},
   "outputs": [],
   "source": [
    "#Agrupar las Sucursales y mostrar su latitud y longitud \n",
    "dfActual = dfActual.groupby(['Sucursal', 'Latitud', 'Longitud']).size().reset_index(name='counts')"
   ]
  },
  {
   "cell_type": "code",
   "execution_count": null,
   "metadata": {},
   "outputs": [
    {
     "data": {
      "text/html": [
       "<div>\n",
       "<style scoped>\n",
       "    .dataframe tbody tr th:only-of-type {\n",
       "        vertical-align: middle;\n",
       "    }\n",
       "\n",
       "    .dataframe tbody tr th {\n",
       "        vertical-align: top;\n",
       "    }\n",
       "\n",
       "    .dataframe thead th {\n",
       "        text-align: right;\n",
       "    }\n",
       "</style>\n",
       "<table border=\"1\" class=\"dataframe\">\n",
       "  <thead>\n",
       "    <tr style=\"text-align: right;\">\n",
       "      <th></th>\n",
       "      <th>Sucursal</th>\n",
       "      <th>Latitud</th>\n",
       "      <th>Longitud</th>\n",
       "      <th>counts</th>\n",
       "    </tr>\n",
       "  </thead>\n",
       "  <tbody>\n",
       "    <tr>\n",
       "      <th>0</th>\n",
       "      <td>7 ELEVEN</td>\n",
       "      <td>19.408894</td>\n",
       "      <td>-99.176846</td>\n",
       "      <td>221</td>\n",
       "    </tr>\n",
       "    <tr>\n",
       "      <th>1</th>\n",
       "      <td>7 ELEVEN SUCURSAL VICENTE SUAREZ</td>\n",
       "      <td>19.411336</td>\n",
       "      <td>-99.175054</td>\n",
       "      <td>145</td>\n",
       "    </tr>\n",
       "    <tr>\n",
       "      <th>2</th>\n",
       "      <td>ABASTECEDORA LUMEN SUCURSAL PLAZA AMERICA</td>\n",
       "      <td>19.313021</td>\n",
       "      <td>-99.135790</td>\n",
       "      <td>285</td>\n",
       "    </tr>\n",
       "    <tr>\n",
       "      <th>3</th>\n",
       "      <td>ABASTECEDORA LUMEN SUCURSAL ROMA</td>\n",
       "      <td>19.411172</td>\n",
       "      <td>-99.163478</td>\n",
       "      <td>395</td>\n",
       "    </tr>\n",
       "    <tr>\n",
       "      <th>4</th>\n",
       "      <td>ARIZMENDI</td>\n",
       "      <td>19.374751</td>\n",
       "      <td>-99.098064</td>\n",
       "      <td>1</td>\n",
       "    </tr>\n",
       "    <tr>\n",
       "      <th>...</th>\n",
       "      <td>...</td>\n",
       "      <td>...</td>\n",
       "      <td>...</td>\n",
       "      <td>...</td>\n",
       "    </tr>\n",
       "    <tr>\n",
       "      <th>212</th>\n",
       "      <td>WALMART SUCURSAL PORTAL CENTRO</td>\n",
       "      <td>19.419472</td>\n",
       "      <td>-99.130269</td>\n",
       "      <td>2085</td>\n",
       "    </tr>\n",
       "    <tr>\n",
       "      <th>213</th>\n",
       "      <td>WALMART SUCURSAL TEPEYAC</td>\n",
       "      <td>19.472750</td>\n",
       "      <td>-99.121635</td>\n",
       "      <td>2444</td>\n",
       "    </tr>\n",
       "    <tr>\n",
       "      <th>214</th>\n",
       "      <td>WALMART SUCURSAL TLALPAN</td>\n",
       "      <td>19.357925</td>\n",
       "      <td>-99.152347</td>\n",
       "      <td>648</td>\n",
       "    </tr>\n",
       "    <tr>\n",
       "      <th>215</th>\n",
       "      <td>WALMART SUCURSAL UNIVERSIDAD</td>\n",
       "      <td>19.368269</td>\n",
       "      <td>-99.164848</td>\n",
       "      <td>2151</td>\n",
       "    </tr>\n",
       "    <tr>\n",
       "      <th>216</th>\n",
       "      <td>WALMART SUCURSAL VILLA COAPA</td>\n",
       "      <td>19.293833</td>\n",
       "      <td>-99.125379</td>\n",
       "      <td>2208</td>\n",
       "    </tr>\n",
       "  </tbody>\n",
       "</table>\n",
       "<p>217 rows × 4 columns</p>\n",
       "</div>"
      ],
      "text/plain": [
       "                                      Sucursal    Latitud   Longitud  counts\n",
       "0                                     7 ELEVEN  19.408894 -99.176846     221\n",
       "1             7 ELEVEN SUCURSAL VICENTE SUAREZ  19.411336 -99.175054     145\n",
       "2    ABASTECEDORA LUMEN SUCURSAL PLAZA AMERICA  19.313021 -99.135790     285\n",
       "3             ABASTECEDORA LUMEN SUCURSAL ROMA  19.411172 -99.163478     395\n",
       "4                                    ARIZMENDI  19.374751 -99.098064       1\n",
       "..                                         ...        ...        ...     ...\n",
       "212             WALMART SUCURSAL PORTAL CENTRO  19.419472 -99.130269    2085\n",
       "213                   WALMART SUCURSAL TEPEYAC  19.472750 -99.121635    2444\n",
       "214                   WALMART SUCURSAL TLALPAN  19.357925 -99.152347     648\n",
       "215               WALMART SUCURSAL UNIVERSIDAD  19.368269 -99.164848    2151\n",
       "216               WALMART SUCURSAL VILLA COAPA  19.293833 -99.125379    2208\n",
       "\n",
       "[217 rows x 4 columns]"
      ]
     },
     "execution_count": 165,
     "metadata": {},
     "output_type": "execute_result"
    }
   ],
   "source": [
    "dfActual"
   ]
  },
  {
   "cell_type": "code",
   "execution_count": null,
   "metadata": {},
   "outputs": [
    {
     "name": "stdout",
     "output_type": "stream",
     "text": [
      "                                      Sucursal    Latitud   Longitud  counts\n",
      "0                                     7 ELEVEN  19.408894 -99.176846     221\n",
      "1             7 ELEVEN SUCURSAL VICENTE SUAREZ  19.411336 -99.175054     145\n",
      "2    ABASTECEDORA LUMEN SUCURSAL PLAZA AMERICA  19.313021 -99.135790     285\n",
      "3             ABASTECEDORA LUMEN SUCURSAL ROMA  19.411172 -99.163478     395\n",
      "4                                    ARIZMENDI  19.374751 -99.098064       1\n",
      "..                                         ...        ...        ...     ...\n",
      "212             WALMART SUCURSAL PORTAL CENTRO  19.419472 -99.130269    2085\n",
      "213                   WALMART SUCURSAL TEPEYAC  19.472750 -99.121635    2444\n",
      "214                   WALMART SUCURSAL TLALPAN  19.357925 -99.152347     648\n",
      "215               WALMART SUCURSAL UNIVERSIDAD  19.368269 -99.164848    2151\n",
      "216               WALMART SUCURSAL VILLA COAPA  19.293833 -99.125379    2208\n",
      "\n",
      "[217 rows x 4 columns]\n"
     ]
    }
   ],
   "source": [
    "print(dfActual)"
   ]
  },
  {
   "cell_type": "code",
   "execution_count": null,
   "metadata": {},
   "outputs": [],
   "source": [
    "import folium\n",
    "from folium.plugins import MarkerCluster\n",
    "\n",
    "mapa = folium.Map(location=[19.408894, -99.176846], zoom_start=12)\n",
    "\n",
    "for index, row in df.iterrows():\n",
    "    popup_text = f\"Precio: {row['precio']}, Tamaño: {row['tamanio']} m²\"\n",
    "    \n",
    "    \n",
    "    if row['precio'] > 1:\n",
    "        color = 'green'\n",
    "    else:\n",
    "        color = 'red'\n",
    "    \n",
    "    folium.Marker(\n",
    "        location=[row['latitud'], row['longitud']],\n",
    "        popup=popup_text,\n",
    "        icon=folium.Icon(color=color)\n",
    "    ).add_to(mapa)\n",
    "marker_cluster = MarkerCluster().add_to(mapa)\n",
    "\n",
    "for index, row in dfActual.iterrows():\n",
    "    popup_text = f\"Sucursal: {row['Sucursal']}\"\n",
    "    folium.Marker(\n",
    "        location=[row['Latitud'], row['Longitud']],\n",
    "        popup=popup_text,\n",
    "        icon=folium.Icon(color='blue')\n",
    "    ).add_to(marker_cluster)\n",
    "\n",
    "mapa.save(\"mapa_renta_tienda.html\")\n",
    "\n",
    "#listo ->\n"
   ]
  }
 ],
 "metadata": {
  "kernelspec": {
   "display_name": "Python 3",
   "language": "python",
   "name": "python3"
  },
  "language_info": {
   "codemirror_mode": {
    "name": "ipython",
    "version": 3
   },
   "file_extension": ".py",
   "mimetype": "text/x-python",
   "name": "python",
   "nbconvert_exporter": "python",
   "pygments_lexer": "ipython3",
   "version": "3.11.1"
  },
  "orig_nbformat": 4
 },
 "nbformat": 4,
 "nbformat_minor": 2
}
