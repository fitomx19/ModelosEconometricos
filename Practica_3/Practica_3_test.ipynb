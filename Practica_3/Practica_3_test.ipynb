{
 "cells": [
  {
   "cell_type": "code",
   "execution_count": 44,
   "metadata": {},
   "outputs": [],
   "source": [
    "#importar uber.csv \n",
    "import pandas as pd\n",
    "import matplotlib.pyplot as plt\n",
    "from sklearn.model_selection import train_test_split\n",
    "from sklearn import preprocessing\n",
    "from scipy.stats import norm\n",
    "from scipy.stats import t\n",
    "from scipy.stats import f\n"
   ]
  },
  {
   "cell_type": "code",
   "execution_count": 45,
   "metadata": {},
   "outputs": [
    {
     "data": {
      "text/plain": [
       "((152036, 3), (38009, 3), (152036,), (38009,))"
      ]
     },
     "execution_count": 45,
     "metadata": {},
     "output_type": "execute_result"
    }
   ],
   "source": [
    "# Step 1: Read the CSV file to load the data\n",
    "uber_data = pd.read_csv('./uber_revisado2.csv', sep=',', encoding='utf-8')\n",
    "\n",
    "# Step 2: Decide the features (X) and target variable (y)\n",
    "# Assuming 'fare_amount' as the target variable and the rest as features\n",
    "features = ['passenger_count',  'pickup_time', 'distancia']\n",
    "X = uber_data[features]\n",
    "y = uber_data['fare_amount']\n",
    "\n",
    "# Step 3: Split the data into training and testing sets\n",
    "from sklearn.model_selection import train_test_split\n",
    "\n",
    "X_train, X_test, y_train, y_test = train_test_split(X, y, test_size=0.2, random_state=42)\n",
    "\n",
    "# Step 4: Standardize the features\n",
    "from sklearn.preprocessing import StandardScaler\n",
    "\n",
    "scaler = StandardScaler().fit(X_train)\n",
    "X_train_scaled = scaler.transform(X_train)\n",
    "X_test_scaled = scaler.transform(X_test)\n",
    "\n",
    "# Return the shapes of the splits as a confirmation\n",
    "X_train_scaled.shape, X_test_scaled.shape, y_train.shape, y_test.shape\n"
   ]
  },
  {
   "cell_type": "code",
   "execution_count": 46,
   "metadata": {},
   "outputs": [],
   "source": [
    "import numpy as np\n",
    "import pandas as pd\n",
    "from scipy.stats import f\n",
    "from sklearn import preprocessing\n",
    "\n",
    "# Function to fit a linear model (estimators)\n",
    "def fit_linear_model(X, y):\n",
    "    \"\"\"\n",
    "    Fitting the estimators of linear model.\n",
    "    Arguments:\n",
    "        X: a list of values.\n",
    "        y: a list of values.\n",
    "    Return:\n",
    "        estimators: a list with b_1_est and b_0_est.\n",
    "    \"\"\"\n",
    "    # Fitting estimators using the least squares method.\n",
    "    estimators = np.linalg.lstsq(X, y, rcond=None)[0]\n",
    "    \n",
    "    return estimators\n",
    "\n",
    "# Function to implement a linear model (predictions)\n",
    "def linear_model(X, estimators):\n",
    "    \"\"\"\n",
    "    Implementation of linear model.\n",
    "    Arguments:\n",
    "        X: a list of values.\n",
    "        estimators: a list of b.\n",
    "    Returns:\n",
    "        y: a list of values.\n",
    "    \"\"\"\n",
    "    # Generation of y (predictions).\n",
    "    y = np.dot(X, estimators)\n",
    "    \n",
    "    return y\n",
    "\n",
    "# Function to get some model metrics\n",
    "def model_metrics(X, y):\n",
    "    \"\"\"\n",
    "    Getting some metrics from any model.\n",
    "    Arguments:\n",
    "        X: a list of features.\n",
    "        y: a list of labels.\n",
    "    Return:\n",
    "        metrics: a list with the next metrics (estimators, SST, SSE, SSR, R^2, variance)\n",
    "    \"\"\"\n",
    "    # Fit model.\n",
    "    estimators = fit_linear_model(X, y)\n",
    "    # Getting predictions.\n",
    "    y_ests = linear_model(X, estimators)\n",
    "    # Getting y_mean\n",
    "    y_mean = np.mean(y)\n",
    "    # Getting SST (total sum of squares).\n",
    "    sst = np.sum((y - y_mean) ** 2)\n",
    "    # Getting SSE (explained sum of squares).\n",
    "    sse = np.sum((y_ests - y_mean) ** 2)\n",
    "    # Getting SSR (residual sum of squares).\n",
    "    ssr = np.sum((y - y_ests) ** 2)\n",
    "    # Getting R^2 (coefficient of determination).\n",
    "    r_2 = 1 - (ssr / sst)\n",
    "    # Getting variance\n",
    "    variance = ssr / (X.shape[0] - (X.shape[1] + 1))\n",
    "    # Save metrics. \n",
    "    metrics = [estimators, sst, sse, ssr, r_2, variance]\n",
    "    \n",
    "    return metrics\n",
    "\n",
    "# Function to get the variance of every estimator\n",
    "def get_variance(X, y):\n",
    "    \"\"\"\n",
    "    Getting variance of each estimator.\n",
    "    Arguments:\n",
    "        X: a list of features.\n",
    "        y: a list of labels.\n",
    "    Return:\n",
    "        vars_j: a list with var_j of each feature.\n",
    "    \"\"\"\n",
    "    # Vars_j initialization.\n",
    "    vars_j = []\n",
    "    # Get metrics for the full model.\n",
    "    _, _, _, _, _, full_model_variance = model_metrics(X, y)\n",
    "    # Calculating variance for each estimator.\n",
    "    for j in range(X.shape[1]):\n",
    "        # Getting features excluding the j-th feature\n",
    "        X_out_j = np.delete(X, j, axis=1)\n",
    "        # Getting metrics for the reduced model (without j-th feature).\n",
    "        _, _, _, _, _, reduced_model_variance = model_metrics(X_out_j, y)\n",
    "        # Calculating the variance for the j-th estimator.\n",
    "        var_j = (full_model_variance - reduced_model_variance) / (full_model_variance * reduced_model_variance)\n",
    "        vars_j.append(var_j)\n",
    "    \n",
    "    return vars_j\n",
    "\n",
    " \n",
    "\n"
   ]
  },
  {
   "cell_type": "code",
   "execution_count": 47,
   "metadata": {},
   "outputs": [],
   "source": [
    "\n",
    "# Split the data into training and testing sets\n",
    "from sklearn.model_selection import train_test_split\n",
    "X_train, X_test, y_train, y_test = train_test_split(X, y, test_size=0.2, random_state=42)\n",
    "\n",
    "# Standardize the features\n",
    "scaler = StandardScaler().fit(X_train)\n",
    "X_train_scaled = scaler.transform(X_train)\n",
    "X_test_scaled = scaler.transform(X_test)\n",
    "\n"
   ]
  },
  {
   "cell_type": "code",
   "execution_count": 48,
   "metadata": {},
   "outputs": [
    {
     "data": {
      "text/html": [
       "<div>\n",
       "<style scoped>\n",
       "    .dataframe tbody tr th:only-of-type {\n",
       "        vertical-align: middle;\n",
       "    }\n",
       "\n",
       "    .dataframe tbody tr th {\n",
       "        vertical-align: top;\n",
       "    }\n",
       "\n",
       "    .dataframe thead th {\n",
       "        text-align: right;\n",
       "    }\n",
       "</style>\n",
       "<table border=\"1\" class=\"dataframe\">\n",
       "  <thead>\n",
       "    <tr style=\"text-align: right;\">\n",
       "      <th></th>\n",
       "      <th>passenger_count</th>\n",
       "      <th>pickup_time</th>\n",
       "      <th>distancia</th>\n",
       "    </tr>\n",
       "  </thead>\n",
       "  <tbody>\n",
       "    <tr>\n",
       "      <th>126826</th>\n",
       "      <td>1</td>\n",
       "      <td>1</td>\n",
       "      <td>3.904830</td>\n",
       "    </tr>\n",
       "    <tr>\n",
       "      <th>161441</th>\n",
       "      <td>1</td>\n",
       "      <td>0</td>\n",
       "      <td>1.393590</td>\n",
       "    </tr>\n",
       "    <tr>\n",
       "      <th>170587</th>\n",
       "      <td>1</td>\n",
       "      <td>0</td>\n",
       "      <td>8.747620</td>\n",
       "    </tr>\n",
       "    <tr>\n",
       "      <th>157203</th>\n",
       "      <td>1</td>\n",
       "      <td>2</td>\n",
       "      <td>1.800354</td>\n",
       "    </tr>\n",
       "    <tr>\n",
       "      <th>152993</th>\n",
       "      <td>5</td>\n",
       "      <td>2</td>\n",
       "      <td>8.403886</td>\n",
       "    </tr>\n",
       "    <tr>\n",
       "      <th>...</th>\n",
       "      <td>...</td>\n",
       "      <td>...</td>\n",
       "      <td>...</td>\n",
       "    </tr>\n",
       "    <tr>\n",
       "      <th>119879</th>\n",
       "      <td>5</td>\n",
       "      <td>0</td>\n",
       "      <td>2.676242</td>\n",
       "    </tr>\n",
       "    <tr>\n",
       "      <th>103694</th>\n",
       "      <td>1</td>\n",
       "      <td>3</td>\n",
       "      <td>4.357364</td>\n",
       "    </tr>\n",
       "    <tr>\n",
       "      <th>131932</th>\n",
       "      <td>1</td>\n",
       "      <td>2</td>\n",
       "      <td>4.954240</td>\n",
       "    </tr>\n",
       "    <tr>\n",
       "      <th>146867</th>\n",
       "      <td>2</td>\n",
       "      <td>2</td>\n",
       "      <td>1.772663</td>\n",
       "    </tr>\n",
       "    <tr>\n",
       "      <th>121958</th>\n",
       "      <td>1</td>\n",
       "      <td>0</td>\n",
       "      <td>1.235167</td>\n",
       "    </tr>\n",
       "  </tbody>\n",
       "</table>\n",
       "<p>152036 rows × 3 columns</p>\n",
       "</div>"
      ],
      "text/plain": [
       "        passenger_count  pickup_time  distancia\n",
       "126826                1            1   3.904830\n",
       "161441                1            0   1.393590\n",
       "170587                1            0   8.747620\n",
       "157203                1            2   1.800354\n",
       "152993                5            2   8.403886\n",
       "...                 ...          ...        ...\n",
       "119879                5            0   2.676242\n",
       "103694                1            3   4.357364\n",
       "131932                1            2   4.954240\n",
       "146867                2            2   1.772663\n",
       "121958                1            0   1.235167\n",
       "\n",
       "[152036 rows x 3 columns]"
      ]
     },
     "execution_count": 48,
     "metadata": {},
     "output_type": "execute_result"
    }
   ],
   "source": [
    "X_train"
   ]
  },
  {
   "cell_type": "code",
   "execution_count": 49,
   "metadata": {},
   "outputs": [
    {
     "data": {
      "text/plain": [
       "(array([ 0.01582014,  0.09037353,  2.83702176, 10.1555915 ]),\n",
       " [-2.9252991830760863e-08,\n",
       "  -7.212437554505495e-06,\n",
       "  -0.005888560097419852,\n",
       "  -0.022855662963790664])"
      ]
     },
     "execution_count": 49,
     "metadata": {},
     "output_type": "execute_result"
    }
   ],
   "source": [
    "# Adding the intercept term manually\n",
    "X_train_scaled_with_intercept = np.hstack([X_train_scaled, np.ones((X_train_scaled.shape[0], 1))])\n",
    "\n",
    "# Now fit the linear model and get the variance for each estimator\n",
    "estimators = fit_linear_model(X_train_scaled_with_intercept, y_train)\n",
    "vars_j = get_variance(X_train_scaled_with_intercept, y_train)\n",
    "\n",
    "estimators, vars_j"
   ]
  },
  {
   "cell_type": "code",
   "execution_count": 50,
   "metadata": {},
   "outputs": [
    {
     "data": {
      "text/plain": [
       "array([[-0.51005129, -0.30624128,  0.19187686,  1.        ],\n",
       "       [-0.51005129, -1.28019167, -0.30787442,  1.        ],\n",
       "       [-0.51005129, -1.28019167,  1.15561988,  1.        ],\n",
       "       ...,\n",
       "       [-0.51005129,  0.66770912,  0.40071542,  1.        ],\n",
       "       [ 0.35727779,  0.66770912, -0.2324367 ,  1.        ],\n",
       "       [-0.51005129, -1.28019167, -0.33940146,  1.        ]])"
      ]
     },
     "execution_count": 50,
     "metadata": {},
     "output_type": "execute_result"
    }
   ],
   "source": [
    "X_train_scaled_with_intercept"
   ]
  },
  {
   "cell_type": "code",
   "execution_count": 51,
   "metadata": {},
   "outputs": [
    {
     "data": {
      "text/plain": [
       "array([ 0.01582014,  0.09037353,  2.83702176, 10.1555915 ])"
      ]
     },
     "execution_count": 51,
     "metadata": {},
     "output_type": "execute_result"
    }
   ],
   "source": [
    "estimators"
   ]
  },
  {
   "cell_type": "code",
   "execution_count": 52,
   "metadata": {},
   "outputs": [
    {
     "name": "stdout",
     "output_type": "stream",
     "text": [
      "For feature 0: b_0 = 0.02, var = -0.00\n",
      "For feature 1: b_1 = 0.09, var = -0.00\n",
      "For feature 2: b_2 = 2.84, var = -0.01\n",
      "For feature 3: b_3 = 10.16, var = -0.02\n"
     ]
    }
   ],
   "source": [
    "# Adjusting the linear model using the provided functions\n",
    "\n",
    "# Add a column of ones to X_train_scaled for the intercept term\n",
    "X_train_scaled_with_intercept = np.hstack([X_train_scaled, np.ones((X_train_scaled.shape[0], 1))])\n",
    "\n",
    "# Fit the linear model\n",
    "estimators = fit_linear_model(X_train_scaled_with_intercept, y_train)\n",
    "\n",
    "# Get the variance of each estimator\n",
    "vars_j = get_variance(X_train_scaled_with_intercept, y_train)\n",
    "\n",
    "# Print the estimators and their variances\n",
    "for count, (var_j, estimator) in enumerate(zip(vars_j, estimators)):\n",
    "    print(f'For feature {count}: b_{count} = {estimator:.2f}, var = {var_j:.2f}')"
   ]
  },
  {
   "cell_type": "code",
   "execution_count": 53,
   "metadata": {},
   "outputs": [
    {
     "data": {
      "text/plain": [
       "array([1.47721610e-04, 2.08749641e-04, 1.18265291e-05])"
      ]
     },
     "execution_count": 53,
     "metadata": {},
     "output_type": "execute_result"
    }
   ],
   "source": [
    "# Revising the function to calculate the variance of each estimator correctly\n",
    "\n",
    "def get_variance_corrected(X, y):\n",
    "    \"\"\"\n",
    "    Getting variance of each estimator with correction.\n",
    "    Arguments:\n",
    "        X: a matrix of features.\n",
    "        y: a vector of labels.\n",
    "    Return:\n",
    "        vars_j: a list with var_j of each feature.\n",
    "    \"\"\"\n",
    "    # Fit model.\n",
    "    estimators = fit_linear_model(X, y)\n",
    "    # Getting predictions.\n",
    "    y_ests = linear_model(X, estimators)\n",
    "    # Getting SSR (residual sum of squares).\n",
    "    ssr = np.sum((y - y_ests) ** 2)\n",
    "    # Degrees of freedom\n",
    "    degrees_of_freedom = X.shape[0] - X.shape[1]\n",
    "    # Estimator variance\n",
    "    estimator_variance = ssr / degrees_of_freedom\n",
    "    # Getting variance of estimators\n",
    "    XTX_inv = np.linalg.inv(X.T @ X)  # (X^T * X)^{-1}\n",
    "    vars_j = np.diagonal(estimator_variance * XTX_inv)\n",
    "    \n",
    "    return vars_j\n",
    "\n",
    "# Calculate the correct variance for each estimator\n",
    "vars_j_corrected = get_variance_corrected(X_train, y_train)\n",
    "\n",
    "# Output the corrected variances\n",
    "vars_j_corrected\n"
   ]
  },
  {
   "cell_type": "code",
   "execution_count": 62,
   "metadata": {},
   "outputs": [
    {
     "data": {
      "text/plain": [
       "{'Coefficient 0': {'Test Result': 'Fail to Reject H0',\n",
       "  'F-Statistic': 1.147297932390903,\n",
       "  'p-value': 0.284117202407148},\n",
       " 'Coefficient 1': {'Test Result': 'Reject H0',\n",
       "  'F-Statistic': 37.323897435341905,\n",
       "  'p-value': 1.0029265196109804e-09},\n",
       " 'Coefficient 2': {'Test Result': 'Reject H0',\n",
       "  'F-Statistic': 36833.41866377647,\n",
       "  'p-value': 1.1102230246251565e-16},\n",
       " 'Coefficient 3': {'Test Result': 'Reject H0',\n",
       "  'F-Statistic': 473468.46436996246,\n",
       "  'p-value': 1.1102230246251565e-16}}"
      ]
     },
     "execution_count": 62,
     "metadata": {},
     "output_type": "execute_result"
    }
   ],
   "source": [
    "# Function to perform the F-test for a given parameter in a linear regression model\n",
    "def f_test(X, y, param_idx, alpha=0.05):\n",
    "    \"\"\"\n",
    "    F-test.\n",
    "    Arguments:\n",
    "        X: numpy array, design matrix of the model.\n",
    "        y: numpy array, observed outcomes.\n",
    "        param_idx: int, index of the parameter to test.\n",
    "        alpha: float, significance level.\n",
    "    Returns:\n",
    "        test: boolean, result of the hypothesis test.\n",
    "        F: float, calculated F-statistic.\n",
    "        p_value: float, associated p-value.\n",
    "    \"\"\"\n",
    "    n, k = X.shape  # n is number of observations, k is number of parameters\n",
    "    # Number of restrictions (one coefficient at a time)\n",
    "    q = 1\n",
    "    dfn = q  # degrees of freedom for the numerator\n",
    "    dfd = n - k  # degrees of freedom for the denominator\n",
    "    \n",
    "    # Fitting the unrestricted model (full model)\n",
    "    full_model = fit_linear_model(X, y)\n",
    "    y_pred_full = linear_model(X, full_model)\n",
    "    SSR_full = np.sum((y - y_pred_full) ** 2)\n",
    "    \n",
    "    # Fitting the restricted model (setting the parameter of interest to 0)\n",
    "    X_restricted = np.array(X, copy=True)\n",
    "    X_restricted[:, param_idx] = 0\n",
    "    restricted_model = fit_linear_model(X_restricted, y)\n",
    "    y_pred_restricted = linear_model(X_restricted, restricted_model)\n",
    "    SSR_restricted = np.sum((y - y_pred_restricted) ** 2)\n",
    "    \n",
    "    # Calculating the F-statistic\n",
    "    F = ((SSR_restricted - SSR_full) / dfn) / (SSR_full / dfd)\n",
    "    \n",
    "    # Calculating the p-value using the F-distribution\n",
    "    p_value = 1 - f.cdf(F, dfn, dfd)\n",
    "    \n",
    "    # Decision rule: reject the null hypothesis if p-value is less than alpha\n",
    "    test = p_value < alpha\n",
    "    \n",
    "    return test, F, p_value\n",
    "\n",
    "# Now we will apply the F-test to each coefficient in our model\n",
    "f_test_results = {}\n",
    "for idx in range(len(estimators)):\n",
    "    test, F, p_value = f_test(X_train_scaled_with_intercept, y_train, idx)\n",
    "    f_test_results[f'Coefficient {idx}'] = {\n",
    "        'Test Result': 'Reject H0' if test else 'Fail to Reject H0',\n",
    "        'F-Statistic': F,\n",
    "        'p-value': p_value\n",
    "    }\n",
    "\n",
    "f_test_results\n"
   ]
  },
  {
   "cell_type": "markdown",
   "metadata": {},
   "source": [
    "-   Coeficiente 0 (passenger_count):\n",
    "    -\tResultado de la prueba: No se rechaza H0H0 (hipótesis nula)\n",
    "    -\tEstadístico F: 1.698\n",
    "    -\tp-valor: 0.193\n",
    "\n",
    "\n",
    "-   Coeficiente 1 (distancia):\n",
    "    -   Resultado de la prueba: Se rechaza H0H0\n",
    "    -\tEstadístico F: 37071.851\n",
    "    -\tp-valor: Prácticamente 0 (menor que 1×10−161×10−16)\n",
    "\n",
    "\n",
    "-\tCoeficiente 2 (término de intercepción):\n",
    "    -\tResultado de la prueba: Se rechaza H0H0\n",
    "    -\tEstadístico F: 473355.370\n",
    "    -\tp-valor: Prácticamente 0 (menor que 1×10−161×10−16)\n"
   ]
  },
  {
   "cell_type": "markdown",
   "metadata": {},
   "source": [
    "- Esto indica que, para el coeficiente asociado con passenger_count, no hay suficiente evidencia para rechazar la hipótesis nula de que este coeficiente es cero; es decir, passenger_count no tiene un efecto estadísticamente significativo sobre fare_amount al nivel de significancia del 5%.\n",
    "\n",
    "- En cambio, los coeficientes asociados con distancia y el término de intercepción son estadísticamente significativos, lo que indica que tienen un efecto significativo sobre fare_amount."
   ]
  },
  {
   "cell_type": "code",
   "execution_count": 59,
   "metadata": {},
   "outputs": [
    {
     "data": {
      "image/png": "[encoded data removed]",
      "text/plain": [
       "<Figure size 1200x600 with 1 Axes>"
      ]
     },
     "metadata": {},
     "output_type": "display_data"
    }
   ],
   "source": [
    "import matplotlib.pyplot as plt\n",
    "\n",
    "\n",
    "# Plotting the F-distribution with the given degrees of freedom\n",
    "dfn = 1  # degrees of freedom for the numerator\n",
    "dfd = X_train_scaled_with_intercept.shape[0] - X_train_scaled_with_intercept.shape[1]  # degrees of freedom for the denominator\n",
    "\n",
    "# Create an array of F values\n",
    "f_values = np.linspace(0.01, 100, 100000)\n",
    "# Calculate the F-distribution PDF for these values\n",
    "f_pdf = f.pdf(f_values, dfn, dfd)\n",
    "\n",
    "# Plotting the F-distribution\n",
    "plt.figure(figsize=(12, 6))\n",
    "plt.plot(f_values, f_pdf, label='F-distribution')\n",
    "\n",
    "# Plot the F-statistics calculated from the model\n",
    "for idx, result in f_test_results.items():\n",
    "    F_stat = result['F-Statistic']\n",
    "    p_val = result['p-value']\n",
    "    # If the test rejects the null hypothesis, mark it in green, otherwise in red\n",
    "    color = 'green' if result['Test Result'] == 'Reject H0' else 'red'\n",
    "    plt.axvline(x=F_stat, color=color, linestyle='--', label=f'{idx} (p-value: {p_val:.2g})')\n",
    "\n",
    "# Enhancing the plot\n",
    "plt.title('F-distribution and Calculated F-statistics')\n",
    "plt.xlabel('F value')\n",
    "plt.ylabel('Probability Density')\n",
    "plt.legend()\n",
    "plt.xlim(0, 5)\n",
    "plt.show()\n"
   ]
  },
  {
   "cell_type": "markdown",
   "metadata": {},
   "source": [
    "Las líneas discontinuas representan los estadísticos F calculados para cada coeficiente del modelo.\n",
    "- En verde se marcan aquellos valores donde la hipótesis nula es rechazada (indicando un efecto significativo).\n",
    "- En rojo se marcan aquellos valores donde la hipótesis nula no es rechazada (indicando que no hay suficiente evidencia para concluir un efecto significativo)."
   ]
  },
  {
   "cell_type": "code",
   "execution_count": 56,
   "metadata": {},
   "outputs": [
    {
     "data": {
      "image/png": "[encoded data removed]",
      "text/plain": [
       "<Figure size 1200x600 with 1 Axes>"
      ]
     },
     "metadata": {},
     "output_type": "display_data"
    },
    {
     "data": {
      "text/plain": [
       "{'Parameter 0': {'F-Statistic': 1.147297932390903,\n",
       "  'p-value': 0.284117202407148,\n",
       "  'Reject H0': False},\n",
       " 'Parameter 1': {'F-Statistic': 37.323897435341905,\n",
       "  'p-value': 1.0029265196109804e-09,\n",
       "  'Reject H0': True},\n",
       " 'Parameter 2': {'F-Statistic': 36833.41866377647,\n",
       "  'p-value': 1.1102230246251565e-16,\n",
       "  'Reject H0': True},\n",
       " 'Parameter 3': {'F-Statistic': 473468.46436996246,\n",
       "  'p-value': 1.1102230246251565e-16,\n",
       "  'Reject H0': True}}"
      ]
     },
     "execution_count": 56,
     "metadata": {},
     "output_type": "execute_result"
    }
   ],
   "source": [
    "# Correcting the F-test function\n",
    "\n",
    "def f_test_corrected(X, y, param_idx, alpha=0.05):\n",
    "    \"\"\"\n",
    "    Corrected F-test.\n",
    "    Arguments:\n",
    "        X: numpy array, design matrix of the model.\n",
    "        y: numpy array, observed outcomes.\n",
    "        param_idx: int, index of the parameter to test.\n",
    "        alpha: float, significance level.\n",
    "    Returns:\n",
    "        test: boolean, result of the hypothesis test.\n",
    "        F: float, calculated F-statistic.\n",
    "        p_value: float, associated p-value.\n",
    "    \"\"\"\n",
    "    n, k = X.shape  # n is number of observations, k is number of parameters\n",
    "    q = 1  # Number of restrictions (one coefficient at a time)\n",
    "    dfn = q  # degrees of freedom for the numerator\n",
    "    dfd = n - k  # degrees of freedom for the denominator\n",
    "    \n",
    "    # Fit the unrestricted model (full model)\n",
    "    full_model = fit_linear_model(X, y)\n",
    "    y_pred_full = linear_model(X, full_model)\n",
    "    SSE_full = np.sum((y - y_pred_full) ** 2)\n",
    "    \n",
    "    # Fit the restricted model (setting the parameter of interest to 0)\n",
    "    X_restricted = np.array(X, copy=True)\n",
    "    X_restricted[:, param_idx] = 0\n",
    "    restricted_model = fit_linear_model(X_restricted, y)\n",
    "    y_pred_restricted = linear_model(X_restricted, restricted_model)\n",
    "    SSE_restricted = np.sum((y - y_pred_restricted) ** 2)\n",
    "    \n",
    "    # Calculating the F-statistic\n",
    "    F = ((SSE_restricted - SSE_full) / dfn) / (SSE_full / dfd)\n",
    "    \n",
    "    # Calculating the p-value using the F-distribution\n",
    "    p_value = 1 - f.cdf(F, dfn, dfd)\n",
    "    \n",
    "    # Test if the p-value is less than the significance level\n",
    "    test = p_value < alpha\n",
    "    \n",
    "    return test, F, p_value\n",
    "\n",
    "# Reapplying the corrected F-test to each coefficient\n",
    "f_test_results_corrected = {}\n",
    "for idx in range(X_train_scaled_with_intercept.shape[1]):\n",
    "    test, F_stat, p_value = f_test_corrected(X_train_scaled_with_intercept, y_train, idx)\n",
    "    f_test_results_corrected[f'Parameter {idx}'] = {'F-Statistic': F_stat, 'p-value': p_value, 'Reject H0': test}\n",
    "\n",
    "# Replotting the F-distribution and the corrected calculated F-statistics\n",
    "f_values_corrected = np.linspace(0.01, 10, 1000)  # Values over which to calculate the F-distribution\n",
    "f_pdf_corrected = f.pdf(f_values_corrected, dfn, dfd)  # Probability density of the F-distribution\n",
    "\n",
    "# Plot the F-distribution\n",
    "plt.figure(figsize=(12, 6))\n",
    "plt.plot(f_values_corrected, f_pdf_corrected, label='F-distribution')\n",
    "\n",
    "# Plot the corrected calculated F-statistics\n",
    "for idx, result in f_test_results_corrected.items():\n",
    "    color = 'green' if result['Reject H0'] else 'red'\n",
    "    plt.axvline(x=result['F-Statistic'], color=color, linestyle='--', label=f'{idx} (p-value: {result[\"p-value\"]:.3f})')\n",
    "\n",
    "plt.title('Corrected F-distribution with Calculated F-statistics for Model Parameters')\n",
    "plt.xlabel('F value')\n",
    "plt.ylabel('Probability Density')\n",
    "plt.legend()\n",
    "plt.show()\n",
    "\n",
    "f_test_results_corrected\n"
   ]
  },
  {
   "cell_type": "markdown",
   "metadata": {},
   "source": [
    "-\tParámetro 0 (relacionado con passenger_count):\n",
    "    -\tEstadístico F: 1.6979\n",
    "    -\tp-valor: 0.1926\n",
    "    -\tResultado de la prueba: No se rechaza H0H0 (la hipótesis nula no se puede rechazar)\n",
    "-\tParámetro 1 (relacionado con distancia):\n",
    "    -\tEstadístico F: 37071.8505\n",
    "    -\tp-valor: Prácticamente 0\n",
    "    -\tResultado de la prueba: Se rechaza H0H0 (la hipótesis nula se rechaza, indicando un efecto significativo)\n",
    "-  \tParámetro 2 (término de intercepción):\n",
    "    -\tEstadístico F: 473355.3698\n",
    "    -\tp-valor: Prácticamente 0\n",
    "    -\tResultado de la prueba: Se rechaza H0H0 (la hipótesis nula se rechaza, indicando un efecto significativo)\n",
    "\n",
    "La gráfica visualiza la distribución F y marca con líneas verticales los estadísticos F para cada parámetro. Los valores donde se rechaza la hipótesis nula están marcados en verde, y el valor donde no se rechaza la hipótesis nula está marcado en rojo.\n",
    "Esta corrección confirma que, excepto para el coeficiente relacionado con passenger_count, todos los demás coeficientes tienen un impacto significativo en la variable dependiente fare_amount al nivel de significancia del 5%.\n"
   ]
  }
 ],
 "metadata": {
  "kernelspec": {
   "display_name": "Python 3",
   "language": "python",
   "name": "python3"
  },
  "language_info": {
   "codemirror_mode": {
    "name": "ipython",
    "version": 3
   },
   "file_extension": ".py",
   "mimetype": "text/x-python",
   "name": "python",
   "nbconvert_exporter": "python",
   "pygments_lexer": "ipython3",
   "version": "3.10.10"
  }
 },
 "nbformat": 4,
 "nbformat_minor": 2
}
