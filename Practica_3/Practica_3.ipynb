{
 "cells": [
  {
   "cell_type": "markdown",
   "metadata": {},
   "source": [
    "### Test T"
   ]
  },
  {
   "cell_type": "markdown",
   "metadata": {},
   "source": [
    "__Parte 1__\n",
    "\n",
    "- Descargue un dataset tabular de varias características para regresión.\n",
    "- Ajuste un modelo lineal de varias características.\n",
    "- Para cada parámetro calculé el error estándar.\n",
    "- Grafique la Función de densidad de probabilidad (PDF) de cada parámetro en una sola gráfica (con un color diferente cada una) bajo el supuesto de que está distribuido de manera normal. Marque la media de cada PDF (valor del j-esimo) parámetro.\n",
    "\n",
    "__Parte 2__\n",
    "\n",
    "- Implemente el test T en sus versiones one-sided y two-sided (*).\n",
    "- Genere una gráfica con la distribución T adecuada (grados de libertad) para el caso de prueba de la primera parte y grafique junto a ella los valores calculados para cada t de cada parámetro del modelo y su p-value. Marque en rojo aquellos valores de t para los que se acepta la hipótesis nula y en verde aquellos casos donde se rechaza."
   ]
  },
  {
   "cell_type": "markdown",
   "metadata": {},
   "source": [
    "### Dataset precio de viajes en __Uber__ dado el número de pasajeros, distancia y fecha"
   ]
  },
  {
   "cell_type": "code",
   "execution_count": 79,
   "metadata": {},
   "outputs": [],
   "source": [
    "#importar uber.csv \n",
    "import pandas as pd\n",
    "import matplotlib.pyplot as plt\n",
    "from sklearn.model_selection import train_test_split\n",
    "from sklearn import preprocessing\n",
    "from scipy.stats import norm\n",
    "from scipy.stats import t\n",
    "from scipy.stats import f\n",
    "\n",
    "\n",
    "\n"
   ]
  },
  {
   "cell_type": "code",
   "execution_count": 80,
   "metadata": {},
   "outputs": [],
   "source": [
    "#Importar el archivo\n",
    "df = pd.read_csv('uber.csv')"
   ]
  },
  {
   "cell_type": "code",
   "execution_count": 81,
   "metadata": {},
   "outputs": [
    {
     "data": {
      "text/html": [
       "<div>\n",
       "<style scoped>\n",
       "    .dataframe tbody tr th:only-of-type {\n",
       "        vertical-align: middle;\n",
       "    }\n",
       "\n",
       "    .dataframe tbody tr th {\n",
       "        vertical-align: top;\n",
       "    }\n",
       "\n",
       "    .dataframe thead th {\n",
       "        text-align: right;\n",
       "    }\n",
       "</style>\n",
       "<table border=\"1\" class=\"dataframe\">\n",
       "  <thead>\n",
       "    <tr style=\"text-align: right;\">\n",
       "      <th></th>\n",
       "      <th>Unnamed: 0</th>\n",
       "      <th>key</th>\n",
       "      <th>fare_amount</th>\n",
       "      <th>pickup_datetime</th>\n",
       "      <th>pickup_longitude</th>\n",
       "      <th>pickup_latitude</th>\n",
       "      <th>dropoff_longitude</th>\n",
       "      <th>dropoff_latitude</th>\n",
       "      <th>passenger_count</th>\n",
       "    </tr>\n",
       "  </thead>\n",
       "  <tbody>\n",
       "    <tr>\n",
       "      <th>0</th>\n",
       "      <td>24238194</td>\n",
       "      <td>2015-05-07 19:52:06.0000003</td>\n",
       "      <td>7.5</td>\n",
       "      <td>2015-05-07 19:52:06 UTC</td>\n",
       "      <td>-73.999817</td>\n",
       "      <td>40.738354</td>\n",
       "      <td>-73.999512</td>\n",
       "      <td>40.723217</td>\n",
       "      <td>1</td>\n",
       "    </tr>\n",
       "    <tr>\n",
       "      <th>1</th>\n",
       "      <td>27835199</td>\n",
       "      <td>2009-07-17 20:04:56.0000002</td>\n",
       "      <td>7.7</td>\n",
       "      <td>2009-07-17 20:04:56 UTC</td>\n",
       "      <td>-73.994355</td>\n",
       "      <td>40.728225</td>\n",
       "      <td>-73.994710</td>\n",
       "      <td>40.750325</td>\n",
       "      <td>1</td>\n",
       "    </tr>\n",
       "    <tr>\n",
       "      <th>2</th>\n",
       "      <td>44984355</td>\n",
       "      <td>2009-08-24 21:45:00.00000061</td>\n",
       "      <td>12.9</td>\n",
       "      <td>2009-08-24 21:45:00 UTC</td>\n",
       "      <td>-74.005043</td>\n",
       "      <td>40.740770</td>\n",
       "      <td>-73.962565</td>\n",
       "      <td>40.772647</td>\n",
       "      <td>1</td>\n",
       "    </tr>\n",
       "  </tbody>\n",
       "</table>\n",
       "</div>"
      ],
      "text/plain": [
       "   Unnamed: 0                           key  fare_amount  \\\n",
       "0    24238194   2015-05-07 19:52:06.0000003          7.5   \n",
       "1    27835199   2009-07-17 20:04:56.0000002          7.7   \n",
       "2    44984355  2009-08-24 21:45:00.00000061         12.9   \n",
       "\n",
       "           pickup_datetime  pickup_longitude  pickup_latitude  \\\n",
       "0  2015-05-07 19:52:06 UTC        -73.999817        40.738354   \n",
       "1  2009-07-17 20:04:56 UTC        -73.994355        40.728225   \n",
       "2  2009-08-24 21:45:00 UTC        -74.005043        40.740770   \n",
       "\n",
       "   dropoff_longitude  dropoff_latitude  passenger_count  \n",
       "0         -73.999512         40.723217                1  \n",
       "1         -73.994710         40.750325                1  \n",
       "2         -73.962565         40.772647                1  "
      ]
     },
     "execution_count": 81,
     "metadata": {},
     "output_type": "execute_result"
    }
   ],
   "source": [
    "df.head(3)"
   ]
  },
  {
   "cell_type": "code",
   "execution_count": 82,
   "metadata": {},
   "outputs": [
    {
     "data": {
      "text/html": [
       "<div>\n",
       "<style scoped>\n",
       "    .dataframe tbody tr th:only-of-type {\n",
       "        vertical-align: middle;\n",
       "    }\n",
       "\n",
       "    .dataframe tbody tr th {\n",
       "        vertical-align: top;\n",
       "    }\n",
       "\n",
       "    .dataframe thead th {\n",
       "        text-align: right;\n",
       "    }\n",
       "</style>\n",
       "<table border=\"1\" class=\"dataframe\">\n",
       "  <thead>\n",
       "    <tr style=\"text-align: right;\">\n",
       "      <th></th>\n",
       "      <th>fare_amount</th>\n",
       "      <th>pickup_datetime</th>\n",
       "      <th>pickup_longitude</th>\n",
       "      <th>pickup_latitude</th>\n",
       "      <th>dropoff_longitude</th>\n",
       "      <th>dropoff_latitude</th>\n",
       "      <th>passenger_count</th>\n",
       "    </tr>\n",
       "  </thead>\n",
       "  <tbody>\n",
       "    <tr>\n",
       "      <th>0</th>\n",
       "      <td>7.5</td>\n",
       "      <td>2015-05-07 19:52:06 UTC</td>\n",
       "      <td>-73.999817</td>\n",
       "      <td>40.738354</td>\n",
       "      <td>-73.999512</td>\n",
       "      <td>40.723217</td>\n",
       "      <td>1</td>\n",
       "    </tr>\n",
       "    <tr>\n",
       "      <th>1</th>\n",
       "      <td>7.7</td>\n",
       "      <td>2009-07-17 20:04:56 UTC</td>\n",
       "      <td>-73.994355</td>\n",
       "      <td>40.728225</td>\n",
       "      <td>-73.994710</td>\n",
       "      <td>40.750325</td>\n",
       "      <td>1</td>\n",
       "    </tr>\n",
       "    <tr>\n",
       "      <th>2</th>\n",
       "      <td>12.9</td>\n",
       "      <td>2009-08-24 21:45:00 UTC</td>\n",
       "      <td>-74.005043</td>\n",
       "      <td>40.740770</td>\n",
       "      <td>-73.962565</td>\n",
       "      <td>40.772647</td>\n",
       "      <td>1</td>\n",
       "    </tr>\n",
       "  </tbody>\n",
       "</table>\n",
       "</div>"
      ],
      "text/plain": [
       "   fare_amount          pickup_datetime  pickup_longitude  pickup_latitude  \\\n",
       "0          7.5  2015-05-07 19:52:06 UTC        -73.999817        40.738354   \n",
       "1          7.7  2009-07-17 20:04:56 UTC        -73.994355        40.728225   \n",
       "2         12.9  2009-08-24 21:45:00 UTC        -74.005043        40.740770   \n",
       "\n",
       "   dropoff_longitude  dropoff_latitude  passenger_count  \n",
       "0         -73.999512         40.723217                1  \n",
       "1         -73.994710         40.750325                1  \n",
       "2         -73.962565         40.772647                1  "
      ]
     },
     "execution_count": 82,
     "metadata": {},
     "output_type": "execute_result"
    }
   ],
   "source": [
    "df.drop(['Unnamed: 0'], axis=1, inplace=True)\n",
    "df.drop(['key'] , axis=1 , inplace=True)\n",
    "df.head(3)\n"
   ]
  },
  {
   "cell_type": "markdown",
   "metadata": {},
   "source": [
    "Separar la columna de fecha y hora en dos columnas diferentes"
   ]
  },
  {
   "cell_type": "code",
   "execution_count": 83,
   "metadata": {},
   "outputs": [
    {
     "data": {
      "text/html": [
       "<div>\n",
       "<style scoped>\n",
       "    .dataframe tbody tr th:only-of-type {\n",
       "        vertical-align: middle;\n",
       "    }\n",
       "\n",
       "    .dataframe tbody tr th {\n",
       "        vertical-align: top;\n",
       "    }\n",
       "\n",
       "    .dataframe thead th {\n",
       "        text-align: right;\n",
       "    }\n",
       "</style>\n",
       "<table border=\"1\" class=\"dataframe\">\n",
       "  <thead>\n",
       "    <tr style=\"text-align: right;\">\n",
       "      <th></th>\n",
       "      <th>fare_amount</th>\n",
       "      <th>pickup_longitude</th>\n",
       "      <th>pickup_latitude</th>\n",
       "      <th>dropoff_longitude</th>\n",
       "      <th>dropoff_latitude</th>\n",
       "      <th>passenger_count</th>\n",
       "      <th>pickup_date</th>\n",
       "      <th>pickup_time</th>\n",
       "    </tr>\n",
       "  </thead>\n",
       "  <tbody>\n",
       "    <tr>\n",
       "      <th>0</th>\n",
       "      <td>7.5</td>\n",
       "      <td>-73.999817</td>\n",
       "      <td>40.738354</td>\n",
       "      <td>-73.999512</td>\n",
       "      <td>40.723217</td>\n",
       "      <td>1</td>\n",
       "      <td>2015-05-07</td>\n",
       "      <td>19:52:06</td>\n",
       "    </tr>\n",
       "    <tr>\n",
       "      <th>1</th>\n",
       "      <td>7.7</td>\n",
       "      <td>-73.994355</td>\n",
       "      <td>40.728225</td>\n",
       "      <td>-73.994710</td>\n",
       "      <td>40.750325</td>\n",
       "      <td>1</td>\n",
       "      <td>2009-07-17</td>\n",
       "      <td>20:04:56</td>\n",
       "    </tr>\n",
       "    <tr>\n",
       "      <th>2</th>\n",
       "      <td>12.9</td>\n",
       "      <td>-74.005043</td>\n",
       "      <td>40.740770</td>\n",
       "      <td>-73.962565</td>\n",
       "      <td>40.772647</td>\n",
       "      <td>1</td>\n",
       "      <td>2009-08-24</td>\n",
       "      <td>21:45:00</td>\n",
       "    </tr>\n",
       "  </tbody>\n",
       "</table>\n",
       "</div>"
      ],
      "text/plain": [
       "   fare_amount  pickup_longitude  pickup_latitude  dropoff_longitude  \\\n",
       "0          7.5        -73.999817        40.738354         -73.999512   \n",
       "1          7.7        -73.994355        40.728225         -73.994710   \n",
       "2         12.9        -74.005043        40.740770         -73.962565   \n",
       "\n",
       "   dropoff_latitude  passenger_count pickup_date pickup_time  \n",
       "0         40.723217                1  2015-05-07    19:52:06  \n",
       "1         40.750325                1  2009-07-17    20:04:56  \n",
       "2         40.772647                1  2009-08-24    21:45:00  "
      ]
     },
     "execution_count": 83,
     "metadata": {},
     "output_type": "execute_result"
    }
   ],
   "source": [
    "df['pickup_datetime'] = pd.to_datetime(df['pickup_datetime'])\n",
    "df['pickup_date'] = df['pickup_datetime'].dt.date\n",
    "df['pickup_time'] = df['pickup_datetime'].dt.time\n",
    "df.drop(['pickup_datetime'] , axis=1 , inplace=True)\n",
    "df.head(3)"
   ]
  },
  {
   "cell_type": "markdown",
   "metadata": {},
   "source": [
    "Categoria de la hora del dia por mañana __(0)__ , tarde __(1)__ , noche __(2)__ y madrugada __(3)__."
   ]
  },
  {
   "cell_type": "code",
   "execution_count": 84,
   "metadata": {},
   "outputs": [],
   "source": [
    "df['pickup_time'] = df['pickup_time'].apply(lambda x: x.strftime('%H:%M:%S'))\n",
    "df['pickup_time'] = pd.to_datetime(df['pickup_time'])\n"
   ]
  },
  {
   "cell_type": "code",
   "execution_count": 85,
   "metadata": {},
   "outputs": [
    {
     "data": {
      "text/html": [
       "<div>\n",
       "<style scoped>\n",
       "    .dataframe tbody tr th:only-of-type {\n",
       "        vertical-align: middle;\n",
       "    }\n",
       "\n",
       "    .dataframe tbody tr th {\n",
       "        vertical-align: top;\n",
       "    }\n",
       "\n",
       "    .dataframe thead th {\n",
       "        text-align: right;\n",
       "    }\n",
       "</style>\n",
       "<table border=\"1\" class=\"dataframe\">\n",
       "  <thead>\n",
       "    <tr style=\"text-align: right;\">\n",
       "      <th></th>\n",
       "      <th>fare_amount</th>\n",
       "      <th>pickup_longitude</th>\n",
       "      <th>pickup_latitude</th>\n",
       "      <th>dropoff_longitude</th>\n",
       "      <th>dropoff_latitude</th>\n",
       "      <th>passenger_count</th>\n",
       "      <th>pickup_date</th>\n",
       "      <th>pickup_time</th>\n",
       "    </tr>\n",
       "  </thead>\n",
       "  <tbody>\n",
       "    <tr>\n",
       "      <th>0</th>\n",
       "      <td>7.5</td>\n",
       "      <td>-73.999817</td>\n",
       "      <td>40.738354</td>\n",
       "      <td>-73.999512</td>\n",
       "      <td>40.723217</td>\n",
       "      <td>1</td>\n",
       "      <td>2015-05-07</td>\n",
       "      <td>2</td>\n",
       "    </tr>\n",
       "    <tr>\n",
       "      <th>1</th>\n",
       "      <td>7.7</td>\n",
       "      <td>-73.994355</td>\n",
       "      <td>40.728225</td>\n",
       "      <td>-73.994710</td>\n",
       "      <td>40.750325</td>\n",
       "      <td>1</td>\n",
       "      <td>2009-07-17</td>\n",
       "      <td>2</td>\n",
       "    </tr>\n",
       "    <tr>\n",
       "      <th>2</th>\n",
       "      <td>12.9</td>\n",
       "      <td>-74.005043</td>\n",
       "      <td>40.740770</td>\n",
       "      <td>-73.962565</td>\n",
       "      <td>40.772647</td>\n",
       "      <td>1</td>\n",
       "      <td>2009-08-24</td>\n",
       "      <td>2</td>\n",
       "    </tr>\n",
       "  </tbody>\n",
       "</table>\n",
       "</div>"
      ],
      "text/plain": [
       "   fare_amount  pickup_longitude  pickup_latitude  dropoff_longitude  \\\n",
       "0          7.5        -73.999817        40.738354         -73.999512   \n",
       "1          7.7        -73.994355        40.728225         -73.994710   \n",
       "2         12.9        -74.005043        40.740770         -73.962565   \n",
       "\n",
       "   dropoff_latitude  passenger_count pickup_date pickup_time  \n",
       "0         40.723217                1  2015-05-07           2  \n",
       "1         40.750325                1  2009-07-17           2  \n",
       "2         40.772647                1  2009-08-24           2  "
      ]
     },
     "execution_count": 85,
     "metadata": {},
     "output_type": "execute_result"
    }
   ],
   "source": [
    "df['pickup_time'] = df['pickup_time'].dt.hour\n",
    "df['pickup_time'] = df['pickup_time'].astype(int)\n",
    "df['pickup_time'] = df['pickup_time'].astype(str)\n",
    "df['pickup_time'] = df['pickup_time'].replace(['0','1','2','3','4','5','6'],'3')\n",
    "df['pickup_time'] = df['pickup_time'].replace(['7', '8', '9', '10','11','12'],'0')\n",
    "df['pickup_time'] = df['pickup_time'].replace(['13','14','15','16','17','18'],'1')\n",
    "df['pickup_time'] = df['pickup_time'].replace(['19','20','21','22','23'],'2')\n",
    "\n",
    "df.head(3)"
   ]
  },
  {
   "cell_type": "code",
   "execution_count": 86,
   "metadata": {},
   "outputs": [],
   "source": [
    "exportar = df.to_csv('uber_revisado.csv')"
   ]
  },
  {
   "cell_type": "code",
   "execution_count": 87,
   "metadata": {},
   "outputs": [
    {
     "data": {
      "text/plain": [
       "'uber_pickup_map.html'"
      ]
     },
     "execution_count": 87,
     "metadata": {},
     "output_type": "execute_result"
    }
   ],
   "source": [
    "import folium\n",
    "\n",
    "# Tomar una muestra aleatoria de 100 puntos para la visualización\n",
    "sample_df = df.sample(n=100, random_state=1)\n",
    "\n",
    "# Inicializar el mapa en una ubicación central de la muestra\n",
    "initial_coords = [sample_df['pickup_latitude'].mean(), sample_df['pickup_longitude'].mean()]\n",
    "m = folium.Map(location=initial_coords, zoom_start=13)\n",
    "\n",
    "# Agregar los puntos de recogida al mapa\n",
    "for _, row in sample_df.iterrows():\n",
    "    pickup_coords = [row['pickup_latitude'], row['pickup_longitude']]\n",
    "    folium.CircleMarker(location=pickup_coords, radius=5, color='blue', fill=True, fill_color='blue').add_to(m)\n",
    "\n",
    "# Guardar el mapa en un archivo HTML\n",
    "map_file_path = 'uber_pickup_map.html'\n",
    "m.save(map_file_path)\n",
    "\n",
    "map_file_path"
   ]
  },
  {
   "cell_type": "code",
   "execution_count": 88,
   "metadata": {},
   "outputs": [
    {
     "data": {
      "text/html": [
       "<div>\n",
       "<style scoped>\n",
       "    .dataframe tbody tr th:only-of-type {\n",
       "        vertical-align: middle;\n",
       "    }\n",
       "\n",
       "    .dataframe tbody tr th {\n",
       "        vertical-align: top;\n",
       "    }\n",
       "\n",
       "    .dataframe thead th {\n",
       "        text-align: right;\n",
       "    }\n",
       "</style>\n",
       "<table border=\"1\" class=\"dataframe\">\n",
       "  <thead>\n",
       "    <tr style=\"text-align: right;\">\n",
       "      <th></th>\n",
       "      <th>fare_amount</th>\n",
       "      <th>pickup_longitude</th>\n",
       "      <th>pickup_latitude</th>\n",
       "      <th>dropoff_longitude</th>\n",
       "      <th>dropoff_latitude</th>\n",
       "      <th>passenger_count</th>\n",
       "      <th>pickup_date</th>\n",
       "      <th>pickup_time</th>\n",
       "      <th>distancia</th>\n",
       "    </tr>\n",
       "  </thead>\n",
       "  <tbody>\n",
       "    <tr>\n",
       "      <th>0</th>\n",
       "      <td>7.5</td>\n",
       "      <td>-73.999817</td>\n",
       "      <td>40.738354</td>\n",
       "      <td>-73.999512</td>\n",
       "      <td>40.723217</td>\n",
       "      <td>1</td>\n",
       "      <td>2015-05-07</td>\n",
       "      <td>2</td>\n",
       "      <td>1.683323</td>\n",
       "    </tr>\n",
       "    <tr>\n",
       "      <th>1</th>\n",
       "      <td>7.7</td>\n",
       "      <td>-73.994355</td>\n",
       "      <td>40.728225</td>\n",
       "      <td>-73.994710</td>\n",
       "      <td>40.750325</td>\n",
       "      <td>1</td>\n",
       "      <td>2009-07-17</td>\n",
       "      <td>2</td>\n",
       "      <td>2.457590</td>\n",
       "    </tr>\n",
       "    <tr>\n",
       "      <th>2</th>\n",
       "      <td>12.9</td>\n",
       "      <td>-74.005043</td>\n",
       "      <td>40.740770</td>\n",
       "      <td>-73.962565</td>\n",
       "      <td>40.772647</td>\n",
       "      <td>1</td>\n",
       "      <td>2009-08-24</td>\n",
       "      <td>2</td>\n",
       "      <td>5.036377</td>\n",
       "    </tr>\n",
       "    <tr>\n",
       "      <th>3</th>\n",
       "      <td>5.3</td>\n",
       "      <td>-73.976124</td>\n",
       "      <td>40.790844</td>\n",
       "      <td>-73.965316</td>\n",
       "      <td>40.803349</td>\n",
       "      <td>3</td>\n",
       "      <td>2009-06-26</td>\n",
       "      <td>0</td>\n",
       "      <td>1.661683</td>\n",
       "    </tr>\n",
       "    <tr>\n",
       "      <th>4</th>\n",
       "      <td>16.0</td>\n",
       "      <td>-73.925023</td>\n",
       "      <td>40.744085</td>\n",
       "      <td>-73.973082</td>\n",
       "      <td>40.761247</td>\n",
       "      <td>5</td>\n",
       "      <td>2014-08-28</td>\n",
       "      <td>1</td>\n",
       "      <td>4.475450</td>\n",
       "    </tr>\n",
       "  </tbody>\n",
       "</table>\n",
       "</div>"
      ],
      "text/plain": [
       "   fare_amount  pickup_longitude  pickup_latitude  dropoff_longitude  \\\n",
       "0          7.5        -73.999817        40.738354         -73.999512   \n",
       "1          7.7        -73.994355        40.728225         -73.994710   \n",
       "2         12.9        -74.005043        40.740770         -73.962565   \n",
       "3          5.3        -73.976124        40.790844         -73.965316   \n",
       "4         16.0        -73.925023        40.744085         -73.973082   \n",
       "\n",
       "   dropoff_latitude  passenger_count pickup_date pickup_time  distancia  \n",
       "0         40.723217                1  2015-05-07           2   1.683323  \n",
       "1         40.750325                1  2009-07-17           2   2.457590  \n",
       "2         40.772647                1  2009-08-24           2   5.036377  \n",
       "3         40.803349                3  2009-06-26           0   1.661683  \n",
       "4         40.761247                5  2014-08-28           1   4.475450  "
      ]
     },
     "execution_count": 88,
     "metadata": {},
     "output_type": "execute_result"
    }
   ],
   "source": [
    "import numpy as np\n",
    "\n",
    "# Definición de la función para calcular la distancia haversina\n",
    "def haversine_distance(lon1, lat1, lon2, lat2):\n",
    "    # Radio de la Tierra en kilómetros\n",
    "    R = 6371.0\n",
    "    \n",
    "    # Convertir coordenadas de grados a radianes\n",
    "    lon1, lat1, lon2, lat2 = map(np.radians, [lon1, lat1, lon2, lat2])\n",
    "    \n",
    "    # Diferencia en las coordenadas\n",
    "    dlon = lon2 - lon1\n",
    "    dlat = lat2 - lat1\n",
    "    \n",
    "    # Fórmula haversina\n",
    "    a = np.sin(dlat/2)**2 + np.cos(lat1) * np.cos(lat2) * np.sin(dlon/2)**2\n",
    "    c = 2 * np.arctan2(np.sqrt(a), np.sqrt(1-a))\n",
    "    \n",
    "    # Distancia en kilómetros\n",
    "    distance = R * c\n",
    "    \n",
    "    return distance\n",
    "\n",
    "# Aplicar la función para calcular la distancia en el DataFrame\n",
    "df['distancia'] = haversine_distance(df['pickup_longitude'], df['pickup_latitude'],\n",
    "                                     df['dropoff_longitude'], df['dropoff_latitude'])\n",
    "\n",
    "# Mostrar las primeras filas del DataFrame con la nueva columna 'distancia'\n",
    "df.head()\n"
   ]
  },
  {
   "cell_type": "markdown",
   "metadata": {},
   "source": [
    "Crear un dataframe llamado dataframe con las columnas fare_amount , passenger_count , pickup_date , pickup_time y distancia"
   ]
  },
  {
   "cell_type": "code",
   "execution_count": 89,
   "metadata": {},
   "outputs": [
    {
     "data": {
      "text/html": [
       "<div>\n",
       "<style scoped>\n",
       "    .dataframe tbody tr th:only-of-type {\n",
       "        vertical-align: middle;\n",
       "    }\n",
       "\n",
       "    .dataframe tbody tr th {\n",
       "        vertical-align: top;\n",
       "    }\n",
       "\n",
       "    .dataframe thead th {\n",
       "        text-align: right;\n",
       "    }\n",
       "</style>\n",
       "<table border=\"1\" class=\"dataframe\">\n",
       "  <thead>\n",
       "    <tr style=\"text-align: right;\">\n",
       "      <th></th>\n",
       "      <th>fare_amount</th>\n",
       "      <th>passenger_count</th>\n",
       "      <th>pickup_date</th>\n",
       "      <th>pickup_time</th>\n",
       "      <th>distancia</th>\n",
       "    </tr>\n",
       "  </thead>\n",
       "  <tbody>\n",
       "    <tr>\n",
       "      <th>0</th>\n",
       "      <td>7.5</td>\n",
       "      <td>1</td>\n",
       "      <td>2015-05-07</td>\n",
       "      <td>2</td>\n",
       "      <td>1.683323</td>\n",
       "    </tr>\n",
       "    <tr>\n",
       "      <th>1</th>\n",
       "      <td>7.7</td>\n",
       "      <td>1</td>\n",
       "      <td>2009-07-17</td>\n",
       "      <td>2</td>\n",
       "      <td>2.457590</td>\n",
       "    </tr>\n",
       "    <tr>\n",
       "      <th>2</th>\n",
       "      <td>12.9</td>\n",
       "      <td>1</td>\n",
       "      <td>2009-08-24</td>\n",
       "      <td>2</td>\n",
       "      <td>5.036377</td>\n",
       "    </tr>\n",
       "  </tbody>\n",
       "</table>\n",
       "</div>"
      ],
      "text/plain": [
       "   fare_amount  passenger_count pickup_date pickup_time  distancia\n",
       "0          7.5                1  2015-05-07           2   1.683323\n",
       "1          7.7                1  2009-07-17           2   2.457590\n",
       "2         12.9                1  2009-08-24           2   5.036377"
      ]
     },
     "execution_count": 89,
     "metadata": {},
     "output_type": "execute_result"
    }
   ],
   "source": [
    "dataframe = df[['fare_amount','passenger_count','pickup_date','pickup_time','distancia']]\n",
    "dataframe.head(3)"
   ]
  },
  {
   "cell_type": "code",
   "execution_count": 90,
   "metadata": {},
   "outputs": [
    {
     "name": "stderr",
     "output_type": "stream",
     "text": [
      "/var/folders/zb/0l4s85s95rzbg13c3_fm6k540000gn/T/ipykernel_33231/2036497375.py:3: SettingWithCopyWarning: \n",
      "A value is trying to be set on a copy of a slice from a DataFrame.\n",
      "Try using .loc[row_indexer,col_indexer] = value instead\n",
      "\n",
      "See the caveats in the documentation: https://pandas.pydata.org/pandas-docs/stable/user_guide/indexing.html#returning-a-view-versus-a-copy\n",
      "  dataframe['pickup_time'] = dataframe['pickup_time'].astype(int)\n"
     ]
    }
   ],
   "source": [
    "#convertir la columna pickup_date a tipo numérico y pickup_time a tipo numérico\n",
    "\n",
    "dataframe['pickup_time'] = dataframe['pickup_time'].astype(int)\n"
   ]
  },
  {
   "cell_type": "code",
   "execution_count": 91,
   "metadata": {},
   "outputs": [
    {
     "name": "stderr",
     "output_type": "stream",
     "text": [
      "/var/folders/zb/0l4s85s95rzbg13c3_fm6k540000gn/T/ipykernel_33231/3858617476.py:2: SettingWithCopyWarning: \n",
      "A value is trying to be set on a copy of a slice from a DataFrame.\n",
      "Try using .loc[row_indexer,col_indexer] = value instead\n",
      "\n",
      "See the caveats in the documentation: https://pandas.pydata.org/pandas-docs/stable/user_guide/indexing.html#returning-a-view-versus-a-copy\n",
      "  dataframe['pickup_date'] = pd.to_datetime(dataframe['pickup_date'])\n",
      "/var/folders/zb/0l4s85s95rzbg13c3_fm6k540000gn/T/ipykernel_33231/3858617476.py:3: SettingWithCopyWarning: \n",
      "A value is trying to be set on a copy of a slice from a DataFrame.\n",
      "Try using .loc[row_indexer,col_indexer] = value instead\n",
      "\n",
      "See the caveats in the documentation: https://pandas.pydata.org/pandas-docs/stable/user_guide/indexing.html#returning-a-view-versus-a-copy\n",
      "  dataframe['pickup_date'] = dataframe['pickup_date'].dt.strftime('%Y%m%d')\n",
      "/var/folders/zb/0l4s85s95rzbg13c3_fm6k540000gn/T/ipykernel_33231/3858617476.py:4: SettingWithCopyWarning: \n",
      "A value is trying to be set on a copy of a slice from a DataFrame.\n",
      "Try using .loc[row_indexer,col_indexer] = value instead\n",
      "\n",
      "See the caveats in the documentation: https://pandas.pydata.org/pandas-docs/stable/user_guide/indexing.html#returning-a-view-versus-a-copy\n",
      "  dataframe['pickup_date'] = dataframe['pickup_date'].astype(int)\n"
     ]
    }
   ],
   "source": [
    "#convertir la columna pickup_date a tipo numérico\n",
    "dataframe['pickup_date'] = pd.to_datetime(dataframe['pickup_date'])\n",
    "dataframe['pickup_date'] = dataframe['pickup_date'].dt.strftime('%Y%m%d')\n",
    "dataframe['pickup_date'] = dataframe['pickup_date'].astype(int)"
   ]
  },
  {
   "cell_type": "code",
   "execution_count": 92,
   "metadata": {},
   "outputs": [
    {
     "data": {
      "text/html": [
       "<div>\n",
       "<style scoped>\n",
       "    .dataframe tbody tr th:only-of-type {\n",
       "        vertical-align: middle;\n",
       "    }\n",
       "\n",
       "    .dataframe tbody tr th {\n",
       "        vertical-align: top;\n",
       "    }\n",
       "\n",
       "    .dataframe thead th {\n",
       "        text-align: right;\n",
       "    }\n",
       "</style>\n",
       "<table border=\"1\" class=\"dataframe\">\n",
       "  <thead>\n",
       "    <tr style=\"text-align: right;\">\n",
       "      <th></th>\n",
       "      <th>fare_amount</th>\n",
       "      <th>passenger_count</th>\n",
       "      <th>pickup_date</th>\n",
       "      <th>pickup_time</th>\n",
       "      <th>distancia</th>\n",
       "    </tr>\n",
       "  </thead>\n",
       "  <tbody>\n",
       "    <tr>\n",
       "      <th>count</th>\n",
       "      <td>200000.000000</td>\n",
       "      <td>200000.000000</td>\n",
       "      <td>2.000000e+05</td>\n",
       "      <td>200000.000000</td>\n",
       "      <td>199999.000000</td>\n",
       "    </tr>\n",
       "    <tr>\n",
       "      <th>mean</th>\n",
       "      <td>11.359955</td>\n",
       "      <td>1.684535</td>\n",
       "      <td>2.011807e+07</td>\n",
       "      <td>1.312505</td>\n",
       "      <td>20.855350</td>\n",
       "    </tr>\n",
       "    <tr>\n",
       "      <th>std</th>\n",
       "      <td>9.901776</td>\n",
       "      <td>1.385997</td>\n",
       "      <td>1.852717e+04</td>\n",
       "      <td>1.026261</td>\n",
       "      <td>382.964642</td>\n",
       "    </tr>\n",
       "    <tr>\n",
       "      <th>min</th>\n",
       "      <td>-52.000000</td>\n",
       "      <td>0.000000</td>\n",
       "      <td>2.009010e+07</td>\n",
       "      <td>0.000000</td>\n",
       "      <td>0.000000</td>\n",
       "    </tr>\n",
       "    <tr>\n",
       "      <th>25%</th>\n",
       "      <td>6.000000</td>\n",
       "      <td>1.000000</td>\n",
       "      <td>2.010082e+07</td>\n",
       "      <td>0.000000</td>\n",
       "      <td>1.215222</td>\n",
       "    </tr>\n",
       "    <tr>\n",
       "      <th>50%</th>\n",
       "      <td>8.500000</td>\n",
       "      <td>1.000000</td>\n",
       "      <td>2.012032e+07</td>\n",
       "      <td>1.000000</td>\n",
       "      <td>2.120992</td>\n",
       "    </tr>\n",
       "    <tr>\n",
       "      <th>75%</th>\n",
       "      <td>12.500000</td>\n",
       "      <td>2.000000</td>\n",
       "      <td>2.013102e+07</td>\n",
       "      <td>2.000000</td>\n",
       "      <td>3.875169</td>\n",
       "    </tr>\n",
       "    <tr>\n",
       "      <th>max</th>\n",
       "      <td>499.000000</td>\n",
       "      <td>208.000000</td>\n",
       "      <td>2.015063e+07</td>\n",
       "      <td>3.000000</td>\n",
       "      <td>16409.239135</td>\n",
       "    </tr>\n",
       "  </tbody>\n",
       "</table>\n",
       "</div>"
      ],
      "text/plain": [
       "         fare_amount  passenger_count   pickup_date    pickup_time  \\\n",
       "count  200000.000000    200000.000000  2.000000e+05  200000.000000   \n",
       "mean       11.359955         1.684535  2.011807e+07       1.312505   \n",
       "std         9.901776         1.385997  1.852717e+04       1.026261   \n",
       "min       -52.000000         0.000000  2.009010e+07       0.000000   \n",
       "25%         6.000000         1.000000  2.010082e+07       0.000000   \n",
       "50%         8.500000         1.000000  2.012032e+07       1.000000   \n",
       "75%        12.500000         2.000000  2.013102e+07       2.000000   \n",
       "max       499.000000       208.000000  2.015063e+07       3.000000   \n",
       "\n",
       "           distancia  \n",
       "count  199999.000000  \n",
       "mean       20.855350  \n",
       "std       382.964642  \n",
       "min         0.000000  \n",
       "25%         1.215222  \n",
       "50%         2.120992  \n",
       "75%         3.875169  \n",
       "max     16409.239135  "
      ]
     },
     "execution_count": 92,
     "metadata": {},
     "output_type": "execute_result"
    }
   ],
   "source": [
    "dataframe.describe()"
   ]
  },
  {
   "cell_type": "code",
   "execution_count": 93,
   "metadata": {},
   "outputs": [
    {
     "name": "stdout",
     "output_type": "stream",
     "text": [
      "200000\n"
     ]
    }
   ],
   "source": [
    "\n",
    "print(len(dataframe))"
   ]
  },
  {
   "cell_type": "code",
   "execution_count": 94,
   "metadata": {},
   "outputs": [
    {
     "data": {
      "text/html": [
       "<div>\n",
       "<style scoped>\n",
       "    .dataframe tbody tr th:only-of-type {\n",
       "        vertical-align: middle;\n",
       "    }\n",
       "\n",
       "    .dataframe tbody tr th {\n",
       "        vertical-align: top;\n",
       "    }\n",
       "\n",
       "    .dataframe thead th {\n",
       "        text-align: right;\n",
       "    }\n",
       "</style>\n",
       "<table border=\"1\" class=\"dataframe\">\n",
       "  <thead>\n",
       "    <tr style=\"text-align: right;\">\n",
       "      <th></th>\n",
       "      <th>fare_amount</th>\n",
       "      <th>passenger_count</th>\n",
       "      <th>pickup_date</th>\n",
       "      <th>pickup_time</th>\n",
       "      <th>distancia</th>\n",
       "    </tr>\n",
       "  </thead>\n",
       "  <tbody>\n",
       "    <tr>\n",
       "      <th>count</th>\n",
       "      <td>190045.000000</td>\n",
       "      <td>190045.000000</td>\n",
       "      <td>1.900450e+05</td>\n",
       "      <td>190045.000000</td>\n",
       "      <td>190045.000000</td>\n",
       "    </tr>\n",
       "    <tr>\n",
       "      <th>mean</th>\n",
       "      <td>10.154345</td>\n",
       "      <td>1.588182</td>\n",
       "      <td>2.011764e+07</td>\n",
       "      <td>1.314815</td>\n",
       "      <td>2.940031</td>\n",
       "    </tr>\n",
       "    <tr>\n",
       "      <th>std</th>\n",
       "      <td>6.411927</td>\n",
       "      <td>1.153295</td>\n",
       "      <td>1.851001e+04</td>\n",
       "      <td>1.026757</td>\n",
       "      <td>4.884725</td>\n",
       "    </tr>\n",
       "    <tr>\n",
       "      <th>min</th>\n",
       "      <td>-10.900000</td>\n",
       "      <td>0.000000</td>\n",
       "      <td>2.009010e+07</td>\n",
       "      <td>0.000000</td>\n",
       "      <td>0.000000</td>\n",
       "    </tr>\n",
       "    <tr>\n",
       "      <th>25%</th>\n",
       "      <td>6.000000</td>\n",
       "      <td>1.000000</td>\n",
       "      <td>2.010081e+07</td>\n",
       "      <td>0.000000</td>\n",
       "      <td>1.199731</td>\n",
       "    </tr>\n",
       "    <tr>\n",
       "      <th>50%</th>\n",
       "      <td>8.100000</td>\n",
       "      <td>1.000000</td>\n",
       "      <td>2.012022e+07</td>\n",
       "      <td>1.000000</td>\n",
       "      <td>2.068624</td>\n",
       "    </tr>\n",
       "    <tr>\n",
       "      <th>75%</th>\n",
       "      <td>12.100000</td>\n",
       "      <td>2.000000</td>\n",
       "      <td>2.013100e+07</td>\n",
       "      <td>2.000000</td>\n",
       "      <td>3.665261</td>\n",
       "    </tr>\n",
       "    <tr>\n",
       "      <th>max</th>\n",
       "      <td>41.040000</td>\n",
       "      <td>5.000000</td>\n",
       "      <td>2.015063e+07</td>\n",
       "      <td>3.000000</td>\n",
       "      <td>973.369304</td>\n",
       "    </tr>\n",
       "  </tbody>\n",
       "</table>\n",
       "</div>"
      ],
      "text/plain": [
       "         fare_amount  passenger_count   pickup_date    pickup_time  \\\n",
       "count  190045.000000    190045.000000  1.900450e+05  190045.000000   \n",
       "mean       10.154345         1.588182  2.011764e+07       1.314815   \n",
       "std         6.411927         1.153295  1.851001e+04       1.026757   \n",
       "min       -10.900000         0.000000  2.009010e+07       0.000000   \n",
       "25%         6.000000         1.000000  2.010081e+07       0.000000   \n",
       "50%         8.100000         1.000000  2.012022e+07       1.000000   \n",
       "75%        12.100000         2.000000  2.013100e+07       2.000000   \n",
       "max        41.040000         5.000000  2.015063e+07       3.000000   \n",
       "\n",
       "           distancia  \n",
       "count  190045.000000  \n",
       "mean        2.940031  \n",
       "std         4.884725  \n",
       "min         0.000000  \n",
       "25%         1.199731  \n",
       "50%         2.068624  \n",
       "75%         3.665261  \n",
       "max       973.369304  "
      ]
     },
     "execution_count": 94,
     "metadata": {},
     "output_type": "execute_result"
    }
   ],
   "source": [
    "#eliminar los valores atípicos de la columna fare_amount , distancia , pickup_date,pickup_time passenger_count por medio de la desviación estándar\n",
    "dataframe = dataframe[np.abs(dataframe['fare_amount']-dataframe['fare_amount'].mean())<=(3*dataframe['fare_amount'].std())]\n",
    "dataframe = dataframe[np.abs(dataframe['distancia']-dataframe['distancia'].mean())<=(3*dataframe['distancia'].std())]\n",
    "dataframe = dataframe[np.abs(dataframe['passenger_count']-dataframe['passenger_count'].mean())<=(3*dataframe['passenger_count'].std())]\n",
    "dataframe = dataframe[np.abs(dataframe['pickup_time']-dataframe['pickup_time'].mean())<=(3*dataframe['pickup_time'].std())]\n",
    "\n",
    "\n",
    "\n",
    "dataframe.describe()"
   ]
  },
  {
   "cell_type": "code",
   "execution_count": 95,
   "metadata": {},
   "outputs": [
    {
     "name": "stdout",
     "output_type": "stream",
     "text": [
      "190045\n"
     ]
    }
   ],
   "source": [
    "\n",
    "print(len(dataframe))"
   ]
  },
  {
   "cell_type": "code",
   "execution_count": 96,
   "metadata": {},
   "outputs": [],
   "source": [
    "X = dataframe[[\"passenger_count\",\"pickup_time\",\"distancia\"]]\n",
    "y = dataframe[\"fare_amount\"]"
   ]
  },
  {
   "cell_type": "code",
   "execution_count": 97,
   "metadata": {},
   "outputs": [],
   "source": [
    "X_train, X_test, y_train, y_test = train_test_split(X, y, test_size=0.2, random_state=42)"
   ]
  },
  {
   "cell_type": "markdown",
   "metadata": {},
   "source": [
    "Escalado estandar"
   ]
  },
  {
   "cell_type": "code",
   "execution_count": 98,
   "metadata": {},
   "outputs": [],
   "source": [
    "scaler = preprocessing.StandardScaler().fit(X_train) \n",
    "X_train_scaled = scaler.transform(X_train)"
   ]
  },
  {
   "cell_type": "markdown",
   "metadata": {},
   "source": [
    "Ajusta los estimadores del modelo lineal."
   ]
  },
  {
   "cell_type": "code",
   "execution_count": 99,
   "metadata": {},
   "outputs": [],
   "source": [
    "def fit_linear_model(X, y):\n",
    "    \"\"\"\n",
    "        Ajustar los estimadores al modelo lineal.\n",
    "        Argumentos:\n",
    "            X: una lista de valores.\n",
    "            y: una lista de valores.\n",
    "        Regresa:\n",
    "            estimadores: una lista con b_1_est y b_0_est.\n",
    "    \"\"\"\n",
    "    X = np.hstack([X, np.ones((X.shape[0], 1))]) \n",
    "    estimators = np.linalg.lstsq(X, y, rcond=None)[0]\n",
    "    return estimators"
   ]
  },
  {
   "cell_type": "markdown",
   "metadata": {},
   "source": [
    "Implementación del modelo lineal."
   ]
  },
  {
   "cell_type": "code",
   "execution_count": 100,
   "metadata": {},
   "outputs": [],
   "source": [
    "def linear_model(X, estimators):\n",
    "    ones_array = np.ones((len(X), 1))\n",
    "    X = np.hstack((X, ones_array))\n",
    "    y = np.dot(X, estimators)\n",
    "    \n",
    "    return y"
   ]
  },
  {
   "cell_type": "markdown",
   "metadata": {},
   "source": [
    "Funcion para obtener las metricas necesarias"
   ]
  },
  {
   "cell_type": "code",
   "execution_count": 101,
   "metadata": {},
   "outputs": [],
   "source": [
    "\n",
    "def model_metrics(X, y, estimators):\n",
    "    \"\"\" \n",
    "    Obteniendo algunas métricas de cualquier modelo.\n",
    "        Argumentos:\n",
    "            X: una lista de características.\n",
    "            y: una lista de etiquetas.\n",
    "            estimadores: cualquier modelo de regresión.\n",
    "        Devolución:\n",
    "            métricas: una lista con las siguientes métricas (SST, SSE, SSR, R ^ 2, varianza)\n",
    "    \"\"\"\n",
    "    # Getting predictions.\n",
    "    y_ests = linear_model(X, estimators)\n",
    "    # Getting y_mean\n",
    "    y_mean = np.array(y).mean()\n",
    "    # Getting SST.\n",
    "    sst = np.array([(y_i - y_mean) ** 2 for y_i in y]).sum()\n",
    "    # Getting SSE.\n",
    "    sse = np.array([(y_i_est - y_mean) ** 2 for y_i_est in y_ests]).sum()\n",
    "    # Getting SSR.\n",
    "    ssr = np.array([(y[i] - y_ests[i]) ** 2 for i in range(len(y))]).sum()\n",
    "    # Getting R^2\n",
    "    r_2 = ssr / sst\n",
    "    # Getting variance\n",
    "    variance = ssr / (X.shape[0] - (X.shape[1] + 1))\n",
    "    # Save metrics. \n",
    "    metrics = [sst, sse, ssr, r_2, variance]\n",
    "    \n",
    "    return metrics"
   ]
  },
  {
   "cell_type": "markdown",
   "metadata": {},
   "source": [
    "Funcion para obtener la varianza de cada uno de los estimadores"
   ]
  },
  {
   "cell_type": "code",
   "execution_count": 102,
   "metadata": {},
   "outputs": [],
   "source": [
    "def get_variance(X, y, estimators):\n",
    "    \"\"\"\n",
    "    Obteniendo la varianza de cada estimador.\n",
    "        Argumentos:\n",
    "            X: una lista de características.\n",
    "            y: una lista de etiquetas.\n",
    "            estimadores: cualquier modelo de regresión.\n",
    "        Devolución:\n",
    "            vars_j: una lista con var_j de cada característica.\n",
    "    \"\"\"\n",
    "    \n",
    "    vars_j = list()\n",
    "    for j in range(X.shape[1]):\n",
    "        # Obtener características.\n",
    "        X_out_j = np.delete(X, j, axis = 1)\n",
    "        X_j = X[:, j]\n",
    "        estimators_j = np.delete(estimators, j) \n",
    "        # Obteniendo métricas.\n",
    "        sst, sse, ssr, r_2, variance = model_metrics(X_out_j, X_j, estimators_j) \n",
    "        # Obtener var para cada característica.\n",
    "        var_j = variance / (sst * (1 - r_2))\n",
    "        vars_j.append(abs(var_j))\n",
    "        \n",
    "    return vars_j"
   ]
  },
  {
   "cell_type": "markdown",
   "metadata": {},
   "source": [
    "Funcion para normalizar cada data"
   ]
  },
  {
   "cell_type": "code",
   "execution_count": 103,
   "metadata": {},
   "outputs": [],
   "source": [
    "def normalize_data(data):\n",
    "    \"\"\"\n",
    "    Normalizando datos min-max.\n",
    "        Argumentos:\n",
    "            datos: una lista de valores.\n",
    "        Devolución:\n",
    "            datos_norm: una lista de datos normalizados.\n",
    "    \"\"\"\n",
    "\n",
    "    data_norm = list()\n",
    "    # Obtener valores min-max.\n",
    "    min_data = min(data)\n",
    "    max_data = max(data) \n",
    "    # Normalizando cada valor.\n",
    "    for datum in data:\n",
    "        datum_norm = (datum - min_data) / (max_data - min_data)\n",
    "        data_norm.append(datum_norm)\n",
    "\n",
    "    return data_norm"
   ]
  },
  {
   "cell_type": "markdown",
   "metadata": {},
   "source": [
    "Obtener el modelo ajustado"
   ]
  },
  {
   "cell_type": "code",
   "execution_count": 104,
   "metadata": {},
   "outputs": [],
   "source": [
    "estimators = fit_linear_model(X_train_scaled, y_train)"
   ]
  },
  {
   "cell_type": "markdown",
   "metadata": {},
   "source": [
    "Varianza de cada estimador"
   ]
  },
  {
   "cell_type": "code",
   "execution_count": 105,
   "metadata": {},
   "outputs": [],
   "source": [
    "vars_j = get_variance(X_train_scaled, y_train, estimators)"
   ]
  },
  {
   "cell_type": "code",
   "execution_count": 106,
   "metadata": {},
   "outputs": [
    {
     "name": "stdout",
     "output_type": "stream",
     "text": [
      "For feature 0: b_0 =  0.02, var =  0.00\n",
      "For feature 1: b_1 =  0.09, var =  0.00\n",
      "For feature 2: b_2 =  2.84, var =  0.00\n"
     ]
    }
   ],
   "source": [
    "count = 0\n",
    "for var_j, estimator in zip(vars_j, estimators):\n",
    "    print(f'For feature {count}: b_{count} = {estimator:5.2f}, var = {var_j:5.2f}')\n",
    "    count += 1"
   ]
  },
  {
   "cell_type": "code",
   "execution_count": 107,
   "metadata": {},
   "outputs": [],
   "source": [
    "# Obtener  la Normal Distribution con b_j and vars_j\n",
    "N = 1000\n",
    "# Inicializa los valores\n",
    "distributions = list()\n",
    "# Applying standard scaling.\n",
    "estimators_normalized = np.array(normalize_data(estimators))\n",
    "# Getting standard deviation.\n",
    "desv = np.array([np.sqrt(vars_j[i]) for i in range(len(vars_j))])"
   ]
  },
  {
   "cell_type": "code",
   "execution_count": 108,
   "metadata": {},
   "outputs": [
    {
     "data": {
      "image/png": "[encoded data removed]",
      "text/plain": [
       "<Figure size 1920x640 with 1 Axes>"
      ]
     },
     "metadata": {},
     "output_type": "display_data"
    }
   ],
   "source": [
    "# Configuración para la visualización en el notebook.\n",
    "%config InlineBackend.print_figure_kwargs = {'bbox_inches': 'tight'}\n",
    "# Colores para las gráficas.\n",
    "colors = ['red', 'green', 'blue', 'yellow', 'purple', 'orange', 'pink']\n",
    "# Obtener el ancho de la celda actual (en pulgadas).\n",
    "ancho_celda = plt.rcParams['figure.figsize'][0]\n",
    "# Datos para el eje x (rango de valores).\n",
    "x = np.linspace(min(estimators_normalized) - 3 * max(desv), max(estimators_normalized) + 3 * max(desv), N)\n",
    "# Crear y mostrar las gráficas.\n",
    "cont = 0\n",
    "plt.figure(figsize=(ancho_celda * 3, ancho_celda))\n",
    "for estimator_normalized, dev in zip(estimators_normalized, desv):\n",
    "    y = norm.pdf(x, estimator_normalized, dev)\n",
    "    # Función de densidad de probabilidad.\n",
    "    plt.plot(x, y, color=colors[cont], label=f'b_{cont}={estimator_normalized:.2f}, std={dev:.2f}')\n",
    "    # Línea vertical en la media.\n",
    "    plt.axvline(x=estimator_normalized, color=colors[cont], linestyle='--', label=f'Mean b_{cont}: {estimator_normalized:.2f}')\n",
    "    cont += 1\n",
    "\n",
    "# Limitar el rango del eje x.\n",
    "plt.xlim(min(estimators_normalized) - 3 * max(desv), 0.4)\n",
    "# Mostrar la leyenda.\n",
    "plt.legend()\n",
    "# Mostrar el gráfico.\n",
    "plt.show()"
   ]
  },
  {
   "cell_type": "markdown",
   "metadata": {},
   "source": [
    "#### Muestra las distribuciones de probabilidad normal para cada estimador,  medias y desviaciones estándar."
   ]
  },
  {
   "cell_type": "markdown",
   "metadata": {},
   "source": [
    "- Curvas Continuas: Cada una representa la función de densidad de probabilidad (PDF) de un estimador normalizado. La PDF muestra cómo se distribuyen los valores alrededor de la media (el estimador normalizado en este caso).\n",
    "\n",
    "- Líneas Verticales Punteadas: Estas líneas indican la posición de la media para cada estimador normalizado.\n",
    "\n",
    "- Colores: Se usan diferentes colores para distinguir entre diferentes estimadores y sus respectivas PDFs y medias.\n",
    "\n"
   ]
  },
  {
   "cell_type": "code",
   "execution_count": 109,
   "metadata": {},
   "outputs": [],
   "source": [
    "# Function to implement t-test.\n",
    "def t_test(estimator, desv, n, len_d, alpha=0.05, two_sided=True):\n",
    "    \"\"\"\n",
    "        t-test.\n",
    "        Arguments:\n",
    "            estimators: a float value.\n",
    "            desvs: a float value.\n",
    "            n: size of sample.\n",
    "            len_d: a size of estimators.\n",
    "            alpha: a float value.\n",
    "            two_sided: a boolean value.\n",
    "        Return:\n",
    "            test: a boolean value.\n",
    "            critical_value: a float value.\n",
    "            t_i: a float value.\n",
    "            dof: an integer value.\n",
    "    \"\"\"\n",
    "    # Getting t\n",
    "    t_i = estimator / desv\n",
    "    # Degrees of freedom.\n",
    "    dof = n - len_d - 1\n",
    "    if two_sided:\n",
    "        # Getting critical value.\n",
    "        critical_value = t.ppf(1 - (alpha / 2), dof)\n",
    "        test = np.abs(t_i) > critical_value\n",
    "    else:\n",
    "        # Getting critical value.\n",
    "        critical_value = t.ppf(1 - alpha, dof)\n",
    "        test = t > critical_value\n",
    "        \n",
    "    return [test, critical_value, t_i, dof]"
   ]
  },
  {
   "cell_type": "code",
   "execution_count": 110,
   "metadata": {},
   "outputs": [
    {
     "name": "stdout",
     "output_type": "stream",
     "text": [
      "For feature 0, Critical Value: 1.96, t value:                      6.14. Result test: True\n",
      "For feature 1, Critical Value: 1.96, t value:                     35.08. Result test: True\n",
      "For feature 2, Critical Value: 1.96, t value:                   1100.87. Result test: True\n"
     ]
    }
   ],
   "source": [
    "# Getting t_test results.\n",
    "n = len(X_train_scaled)\n",
    "two_sided = True\n",
    "t_test_result = [t_test(estimator, des, n, len(desv), two_sided=two_sided) for des, estimator in zip(desv, estimators)]\n",
    "count = 0\n",
    "for t_test_i in t_test_result:\n",
    "    print(f'For feature {count}, Critical Value: {t_test_i[1]:.2f}, t value: {t_test_i[2]:25.2f}. Result test: {t_test_i[0]}')\n",
    "    t_test_i.append(count)\n",
    "    count += 1"
   ]
  },
  {
   "cell_type": "code",
   "execution_count": 111,
   "metadata": {},
   "outputs": [
    {
     "name": "stderr",
     "output_type": "stream",
     "text": [
      "/opt/homebrew/lib/python3.10/site-packages/scipy/stats/_continuous_distns.py:6703: RuntimeWarning: overflow encountered in power\n",
      "  / (np.sqrt(df*np.pi)*(1+(x**2)/df)**((df+1)/2))\n"
     ]
    },
    {
     "data": {
      "image/png": "[encoded data removed]",
      "text/plain": [
       "<Figure size 1920x640 with 1 Axes>"
      ]
     },
     "metadata": {},
     "output_type": "display_data"
    },
    {
     "name": "stdout",
     "output_type": "stream",
     "text": [
      "Consideraciones\n",
      "Para las últimas dos características, los valores t son tan grandes que no es posible mostrarlos en el gráfico.\n",
      "Valor t 1: 35.08, Aceptado\n",
      "Valor t 2: 1100.87, Aceptado\n"
     ]
    }
   ],
   "source": [
    "# Get min-max values.\n",
    "t_i = [t_test_i[2] for t_test_i in t_test_result[:4]]\n",
    "min_t = min(t_i)\n",
    "max_t = max(t_i)\n",
    "t_i = [[t_test_i[2], t_test_i[-1]] for t_test_i in t_test_result[:4]]\n",
    "# Initializing values.\n",
    "%config InlineBackend.print_figure_kwargs = {'bbox_inches': 'tight'}\n",
    "cont = 0\n",
    "# Getting the width of the current cell (in inches).\n",
    "width_cell = plt.rcParams['figure.figsize'][0]\n",
    "# X data\n",
    "dof = t_test_result[0][-2]\n",
    "x = np.linspace(-max_t - 1, max_t + 1, N)\n",
    "y = t.pdf(x, dof)\n",
    "\n",
    "#Funcion de probabilidad \n",
    "\n",
    "plt.xlim(100)\n",
    "plt.plot(x, y, color='green', label=f't_test with dof: {dof}')\n",
    "plt.axvline(x=t_test_result[0][1], color='blue', linestyle='--', label=f'critical value={t_test_result[0][1]:.2f}')\n",
    "if two_sided:\n",
    "    plt.axvline(x=-t_test_result[0][1], color='blue', linestyle='--', label=f'critical value={t_test_result[0][1]:.2f}')\n",
    "for i in t_i:\n",
    "    if i[0] > t_test_result[0][1] or i[0] < -t_test_result[0][1]:\n",
    "        plt.axvline(i[0], color ='red', label=f't value{i[1]}={i[0]:6.2f}, Accepted')\n",
    "    else:\n",
    "        plt.axvline(i[0], color ='green', label=f't value{i[1]}={i[0]:6.2f}, Rejected')\n",
    "plt.gcf().set_size_inches(width_cell * 3, width_cell)\n",
    " \n",
    "plt.legend()\n",
    "plt.show()\n",
    " \n",
    "\n",
    "print(f'Consideraciones')\n",
    "print(f'Para las últimas dos características, los valores t son tan grandes que no es posible mostrarlos en el gráfico.')\n",
    "ultimas_caracteristicas = t_test_result[-2:]\n",
    "for caracteristica in ultimas_caracteristicas:\n",
    "    print(f'Valor t {caracteristica[-1]}: {caracteristica[2]:.2f}, Aceptado')\n"
   ]
  }
 ],
 "metadata": {
  "kernelspec": {
   "display_name": "Python 3",
   "language": "python",
   "name": "python3"
  },
  "language_info": {
   "codemirror_mode": {
    "name": "ipython",
    "version": 3
   },
   "file_extension": ".py",
   "mimetype": "text/x-python",
   "name": "python",
   "nbconvert_exporter": "python",
   "pygments_lexer": "ipython3",
   "version": "3.10.10"
  },
  "orig_nbformat": 4
 },
 "nbformat": 4,
 "nbformat_minor": 2
}
