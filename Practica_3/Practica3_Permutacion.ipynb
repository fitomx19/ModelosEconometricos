{
  "cells": [
    {
      "cell_type": "code",
      "execution_count": 17,
      "metadata": {
        "colab": {
          "base_uri": "https://localhost:8080/"
        },
        "id": "j1QLMkwn4qbM",
        "outputId": "ca6a9b55-b007-4721-d1d6-2dcb92c21c81"
      },
      "outputs": [
        {
          "name": "stdout",
          "output_type": "stream",
          "text": [
            "zsh:1: command not found: wget\n"
          ]
        }
      ],
      "source": [
        "!wget https://raw.githubusercontent.com/fitomx19/ModelosEconometricos/master/Practica_3/uber_revisado2.csv /content"
      ]
    },
    {
      "cell_type": "code",
      "execution_count": 18,
      "metadata": {
        "id": "A5SEbZDx6Wfs"
      },
      "outputs": [],
      "source": [
        "import pandas as pd\n",
        "import numpy as np\n",
        "import matplotlib.pyplot as plt\n",
        "from sklearn.model_selection import train_test_split\n",
        "from sklearn.linear_model import LinearRegression\n",
        "from sklearn.preprocessing import StandardScaler"
      ]
    },
    {
      "cell_type": "code",
      "execution_count": 19,
      "metadata": {
        "id": "p-XAuwed6rnA"
      },
      "outputs": [],
      "source": [
        "# Step 1: Read the CSV file to load the data\n",
        "uber_data = pd.read_csv('./uber_revisado2.csv', sep=',', encoding='utf-8')"
      ]
    },
    {
      "cell_type": "code",
      "execution_count": 20,
      "metadata": {
        "colab": {
          "base_uri": "https://localhost:8080/",
          "height": 424
        },
        "id": "3rByP9Ef6syQ",
        "outputId": "d5afe124-2903-4fda-9ecf-fe4adddb7c6c"
      },
      "outputs": [
        {
          "data": {
            "text/html": [
              "<div>\n",
              "<style scoped>\n",
              "    .dataframe tbody tr th:only-of-type {\n",
              "        vertical-align: middle;\n",
              "    }\n",
              "\n",
              "    .dataframe tbody tr th {\n",
              "        vertical-align: top;\n",
              "    }\n",
              "\n",
              "    .dataframe thead th {\n",
              "        text-align: right;\n",
              "    }\n",
              "</style>\n",
              "<table border=\"1\" class=\"dataframe\">\n",
              "  <thead>\n",
              "    <tr style=\"text-align: right;\">\n",
              "      <th></th>\n",
              "      <th>Unnamed: 0</th>\n",
              "      <th>fare_amount</th>\n",
              "      <th>passenger_count</th>\n",
              "      <th>pickup_date</th>\n",
              "      <th>pickup_time</th>\n",
              "      <th>distancia</th>\n",
              "    </tr>\n",
              "  </thead>\n",
              "  <tbody>\n",
              "    <tr>\n",
              "      <th>0</th>\n",
              "      <td>0</td>\n",
              "      <td>7.5</td>\n",
              "      <td>1</td>\n",
              "      <td>20150507</td>\n",
              "      <td>2</td>\n",
              "      <td>1.683323</td>\n",
              "    </tr>\n",
              "    <tr>\n",
              "      <th>1</th>\n",
              "      <td>1</td>\n",
              "      <td>7.7</td>\n",
              "      <td>1</td>\n",
              "      <td>20090717</td>\n",
              "      <td>2</td>\n",
              "      <td>2.457590</td>\n",
              "    </tr>\n",
              "    <tr>\n",
              "      <th>2</th>\n",
              "      <td>2</td>\n",
              "      <td>12.9</td>\n",
              "      <td>1</td>\n",
              "      <td>20090824</td>\n",
              "      <td>2</td>\n",
              "      <td>5.036377</td>\n",
              "    </tr>\n",
              "    <tr>\n",
              "      <th>3</th>\n",
              "      <td>3</td>\n",
              "      <td>5.3</td>\n",
              "      <td>3</td>\n",
              "      <td>20090626</td>\n",
              "      <td>0</td>\n",
              "      <td>1.661683</td>\n",
              "    </tr>\n",
              "    <tr>\n",
              "      <th>4</th>\n",
              "      <td>4</td>\n",
              "      <td>16.0</td>\n",
              "      <td>5</td>\n",
              "      <td>20140828</td>\n",
              "      <td>1</td>\n",
              "      <td>4.475450</td>\n",
              "    </tr>\n",
              "    <tr>\n",
              "      <th>...</th>\n",
              "      <td>...</td>\n",
              "      <td>...</td>\n",
              "      <td>...</td>\n",
              "      <td>...</td>\n",
              "      <td>...</td>\n",
              "      <td>...</td>\n",
              "    </tr>\n",
              "    <tr>\n",
              "      <th>190040</th>\n",
              "      <td>199995</td>\n",
              "      <td>3.0</td>\n",
              "      <td>1</td>\n",
              "      <td>20121028</td>\n",
              "      <td>0</td>\n",
              "      <td>0.112210</td>\n",
              "    </tr>\n",
              "    <tr>\n",
              "      <th>190041</th>\n",
              "      <td>199996</td>\n",
              "      <td>7.5</td>\n",
              "      <td>1</td>\n",
              "      <td>20140314</td>\n",
              "      <td>3</td>\n",
              "      <td>1.875050</td>\n",
              "    </tr>\n",
              "    <tr>\n",
              "      <th>190042</th>\n",
              "      <td>199997</td>\n",
              "      <td>30.9</td>\n",
              "      <td>2</td>\n",
              "      <td>20090629</td>\n",
              "      <td>3</td>\n",
              "      <td>12.850319</td>\n",
              "    </tr>\n",
              "    <tr>\n",
              "      <th>190043</th>\n",
              "      <td>199998</td>\n",
              "      <td>14.5</td>\n",
              "      <td>1</td>\n",
              "      <td>20150520</td>\n",
              "      <td>1</td>\n",
              "      <td>3.539715</td>\n",
              "    </tr>\n",
              "    <tr>\n",
              "      <th>190044</th>\n",
              "      <td>199999</td>\n",
              "      <td>14.1</td>\n",
              "      <td>1</td>\n",
              "      <td>20100515</td>\n",
              "      <td>3</td>\n",
              "      <td>5.417783</td>\n",
              "    </tr>\n",
              "  </tbody>\n",
              "</table>\n",
              "<p>190045 rows × 6 columns</p>\n",
              "</div>"
            ],
            "text/plain": [
              "        Unnamed: 0  fare_amount  passenger_count  pickup_date  pickup_time  \\\n",
              "0                0          7.5                1     20150507            2   \n",
              "1                1          7.7                1     20090717            2   \n",
              "2                2         12.9                1     20090824            2   \n",
              "3                3          5.3                3     20090626            0   \n",
              "4                4         16.0                5     20140828            1   \n",
              "...            ...          ...              ...          ...          ...   \n",
              "190040      199995          3.0                1     20121028            0   \n",
              "190041      199996          7.5                1     20140314            3   \n",
              "190042      199997         30.9                2     20090629            3   \n",
              "190043      199998         14.5                1     20150520            1   \n",
              "190044      199999         14.1                1     20100515            3   \n",
              "\n",
              "        distancia  \n",
              "0        1.683323  \n",
              "1        2.457590  \n",
              "2        5.036377  \n",
              "3        1.661683  \n",
              "4        4.475450  \n",
              "...           ...  \n",
              "190040   0.112210  \n",
              "190041   1.875050  \n",
              "190042  12.850319  \n",
              "190043   3.539715  \n",
              "190044   5.417783  \n",
              "\n",
              "[190045 rows x 6 columns]"
            ]
          },
          "execution_count": 20,
          "metadata": {},
          "output_type": "execute_result"
        }
      ],
      "source": [
        "uber_data"
      ]
    },
    {
      "cell_type": "code",
      "execution_count": 21,
      "metadata": {
        "colab": {
          "base_uri": "https://localhost:8080/"
        },
        "id": "4LKY4h6z4i4o",
        "outputId": "429a7552-15bf-4d81-8533-2a0cc1204504"
      },
      "outputs": [
        {
          "data": {
            "text/plain": [
              "((152036, 3), (38009, 3), (152036,), (38009,))"
            ]
          },
          "execution_count": 21,
          "metadata": {},
          "output_type": "execute_result"
        }
      ],
      "source": [
        "# Step 2: Decide the features (X) and target variable (y)\n",
        "# Assuming 'fare_amount' as the target variable and the rest as features\n",
        "features = ['passenger_count',   'pickup_time', 'distancia']\n",
        "X = uber_data[features]\n",
        "y = uber_data['fare_amount']\n",
        "\n",
        "# Step 3: Split the data into training and testing sets\n",
        "\n",
        "X_train, X_test, y_train, y_test = train_test_split(X, y, test_size=0.2, shuffle=True, random_state=42)\n",
        "\n",
        "# Step 4: Standardize the features\n",
        "\n",
        "scaler = StandardScaler().fit(X_train)\n",
        "X_train_scaled = scaler.transform(X_train)\n",
        "X_test_scaled = scaler.transform(X_test)\n",
        "\n",
        "# Return the shapes of the splits as a confirmation\n",
        "X_train_scaled.shape, X_test_scaled.shape, y_train.shape, y_test.shape"
      ]
    },
    {
      "cell_type": "code",
      "execution_count": 22,
      "metadata": {
        "id": "pYRcbsbk6-7_"
      },
      "outputs": [],
      "source": [
        "class ModelAgnosticFeatureImportance():\n",
        "  def __init__(self,model,features,X_train,X_test,y_train,y_test) -> None:\n",
        "    self.model = model\n",
        "    self.features = features\n",
        "    self.X_train = X_train\n",
        "    self.X_test = X_test\n",
        "    self.y_train = y_train\n",
        "    self.y_test = y_test\n",
        "\n",
        "  def evaluate(self):\n",
        "    #Model performance with all features\n",
        "    model = self.model.fit(self.X_train,self.y_train)\n",
        "    base_performance = model.score(self.X_test,self.y_test)\n",
        "\n",
        "    print(f\"The Base Performance of the model given the metric is {base_performance}\\nFeature\\tPerformance\\tDifference\\n\")\n",
        "\n",
        "    #Model performance for every permutated feature\n",
        "    for i, feature in enumerate(self.features):\n",
        "      X_copy = np.copy(self.X_train)\n",
        "      #Permutate feature\n",
        "      np.random.shuffle(X_copy[:,i])\n",
        "      #Training model\n",
        "      permutated_model = self.model.fit(X_copy,self.y_train)\n",
        "      #Testing\n",
        "      feat_performance = permutated_model.score(self.X_test,self.y_test)\n",
        "\n",
        "      print(f\"{feature}\\t{feat_performance}\\t{base_performance-feat_performance}\\n\")"
      ]
    },
    {
      "cell_type": "code",
      "execution_count": 23,
      "metadata": {
        "id": "CgR0rbw-JPVY"
      },
      "outputs": [],
      "source": [
        "feature_importance = ModelAgnosticFeatureImportance(LinearRegression(),features,X_train_scaled,X_test_scaled,y_train,y_test)"
      ]
    },
    {
      "cell_type": "code",
      "execution_count": 24,
      "metadata": {
        "colab": {
          "base_uri": "https://localhost:8080/"
        },
        "id": "oYe4ID4mX1fI",
        "outputId": "7f5deaa7-027a-4e8c-b5fd-0728e943af34"
      },
      "outputs": [
        {
          "name": "stdout",
          "output_type": "stream",
          "text": [
            "The Base Performance of the model given the metric is 0.252348961155649\n",
            "Feature\tPerformance\tDifference\n",
            "\n",
            "passenger_count\t0.25217605668649146\t0.0001729044691575199\n",
            "\n",
            "pickup_time\t0.25226820783229065\t8.075332335832908e-05\n",
            "\n",
            "distancia\t0.0027539184145096707\t0.2495950427411393\n",
            "\n"
          ]
        }
      ],
      "source": [
        "feature_importance.evaluate()"
      ]
    }
  ],
  "metadata": {
    "colab": {
      "provenance": []
    },
    "kernelspec": {
      "display_name": "Python 3",
      "name": "python3"
    },
    "language_info": {
      "codemirror_mode": {
        "name": "ipython",
        "version": 3
      },
      "file_extension": ".py",
      "mimetype": "text/x-python",
      "name": "python",
      "nbconvert_exporter": "python",
      "pygments_lexer": "ipython3",
      "version": "3.10.10"
    }
  },
  "nbformat": 4,
  "nbformat_minor": 0
}
